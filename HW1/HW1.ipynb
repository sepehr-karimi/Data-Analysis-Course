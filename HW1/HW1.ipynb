{
 "cells": [
  {
   "cell_type": "markdown",
   "metadata": {},
   "source": [
    "<div style=\"display:block\" direction=rtl align=right><br><br>\n",
    "    <div  style=\"width:100%;margin:100;display:block\"  display=block align=center>\n",
    "        <img width=130 align=right src=\"https://i.ibb.co/yXKQmtZ/logo1.png\" style=\"margin:0;\" />\n",
    "        <img width=170 align=left  src=\"https://i.ibb.co/wLjqFkw/logo2.png\" style=\"margin:0;\" />\n",
    "        <span><br><font size=5>University of Tehran , school of ECE</font></span>\n",
    "        <span><br><font size=3>Data Analytics Course</font></span>\n",
    "        <span><br><font size=3>Fall 2022</font></span>\n",
    "    </div><br><br><br>\n",
    "    <div style=\"display:block\" align=left display=block> \n",
    "        <font size=3>Homework 1</font><br>\n",
    "        <hr />\n",
    "        <font size=3>TA: <a href=\"mailto:mesbahamirhossein@gmail.com\">Amirhossein Mesbah</a><br></font><br>\n",
    "    </div>\n",
    "</div>"
   ]
  },
  {
   "cell_type": "markdown",
   "metadata": {},
   "source": [
    "# Numpy"
   ]
  },
  {
   "cell_type": "markdown",
   "metadata": {},
   "source": [
    "### Question1: mean and std of numbers between 10 and 1000."
   ]
  },
  {
   "cell_type": "markdown",
   "metadata": {},
   "source": [
    "<div dir=\"rtl\">\n",
    "میانگین و انحراف معیار ارایه ای از اعداد بین ۱۰ تا ۱۰۰۰\n",
    "</div>"
   ]
  },
  {
   "cell_type": "code",
   "execution_count": 1,
   "metadata": {},
   "outputs": [
    {
     "name": "stdout",
     "output_type": "stream",
     "text": [
      "Standard Error is :  286.07691273501956\n",
      "Mean is :  505.0\n"
     ]
    }
   ],
   "source": [
    "# IMPORT LIBRARIES\n",
    "import numpy as np\n",
    "\n",
    "arr = np.arange(10,1001,1)\n",
    "sd = arr.std()\n",
    "mean = arr.mean()\n",
    "\n",
    "print(\"Standard Error is : \",sd)\n",
    "print(\"Mean is : \",mean)\n",
    "\n",
    "\n"
   ]
  },
  {
   "cell_type": "markdown",
   "metadata": {},
   "source": [
    "### Question2: nearest point to each random point."
   ]
  },
  {
   "cell_type": "markdown",
   "metadata": {},
   "source": [
    "<div dir=\"rtl\">\n",
    "در قسمت دوم میخواهیم نزدیک ترین نقطه به هر کدام از نقاط دیگر را پیدا کرده و ایندکس ان را نمایش دهیم.\n",
    "</div>"
   ]
  },
  {
   "cell_type": "code",
   "execution_count": 2,
   "metadata": {},
   "outputs": [
    {
     "name": "stdout",
     "output_type": "stream",
     "text": [
      "42\n",
      "80\n",
      "4\n",
      "37\n",
      "93\n",
      "2\n",
      "84\n",
      "96\n",
      "33\n",
      "6\n",
      "94\n",
      "81\n",
      "57\n",
      "68\n",
      "88\n",
      "20\n",
      "1\n",
      "15\n",
      "6\n",
      "48\n",
      "38\n",
      "98\n",
      "92\n",
      "75\n",
      "43\n",
      "39\n",
      "21\n",
      "72\n",
      "55\n",
      "57\n",
      "35\n",
      "75\n",
      "11\n",
      "96\n",
      "76\n",
      "44\n",
      "30\n",
      "35\n",
      "21\n",
      "20\n",
      "25\n",
      "68\n",
      "73\n",
      "0\n",
      "24\n",
      "35\n",
      "8\n",
      "78\n",
      "75\n",
      "19\n",
      "93\n",
      "59\n",
      "66\n",
      "61\n",
      "71\n",
      "80\n",
      "49\n",
      "88\n",
      "12\n",
      "98\n",
      "87\n",
      "69\n",
      "53\n",
      "78\n",
      "64\n",
      "81\n",
      "6\n",
      "52\n",
      "93\n",
      "41\n",
      "61\n",
      "65\n",
      "54\n",
      "27\n",
      "42\n",
      "64\n",
      "92\n",
      "34\n",
      "98\n",
      "47\n",
      "49\n",
      "72\n",
      "11\n",
      "72\n",
      "82\n",
      "6\n",
      "66\n",
      "43\n",
      "60\n",
      "57\n",
      "74\n",
      "91\n",
      "91\n",
      "76\n",
      "50\n",
      "96\n",
      "53\n",
      "7\n",
      "0\n",
      "21\n"
     ]
    }
   ],
   "source": [
    "def closest(X, p):\n",
    "    disp = X - p\n",
    "    #print(np.min((disp*disp).sum(1)))\n",
    "    return np.argmin((disp*disp).sum(1))\n",
    "\n",
    "X = np.random.random((100, 5))\n",
    "for i in range(X.shape[0]):\n",
    "    X1 = X\n",
    "    X1 = np.delete(X1,i,axis = 0)\n",
    "    print( closest(X1, X[i]) )"
   ]
  },
  {
   "cell_type": "markdown",
   "metadata": {},
   "source": [
    "### Question3: Histogram of distances."
   ]
  },
  {
   "cell_type": "markdown",
   "metadata": {},
   "source": [
    "<div dir=\"rtl\">\n",
    "در این قسمت ابتدا \n",
    "matrix\n",
    "فاصله ها را تولید کرده و در ادامه \n",
    "histogram\n",
    "فاصله ها را می سازیم.\n",
    "</div>"
   ]
  },
  {
   "cell_type": "code",
   "execution_count": 3,
   "metadata": {},
   "outputs": [
    {
     "data": {
      "text/plain": [
       "Text(0, 0.5, 'number')"
      ]
     },
     "execution_count": 3,
     "metadata": {},
     "output_type": "execute_result"
    },
    {
     "data": {
      "image/png": "[encoded data removed]",
      "text/plain": [
       "<Figure size 432x288 with 1 Axes>"
      ]
     },
     "metadata": {
      "needs_background": "light"
     },
     "output_type": "display_data"
    }
   ],
   "source": [
    "import matplotlib.pyplot as plt\n",
    "\n",
    "m1 = np.linalg.norm(X[:, None, :] - X[None, :, :], axis=-1)\n",
    "m2 = np.triu(m1)\n",
    "\n",
    "\n",
    "fig, ax = plt.subplots(1, 1)\n",
    "ax.hist(m2)\n",
    "\n",
    "ax.set_title(\"Histogram of distances\")\n",
    "  \n",
    "# adding labels\n",
    "ax.set_xlabel('distance')\n",
    "ax.set_ylabel('number')\n"
   ]
  },
  {
   "cell_type": "markdown",
   "metadata": {},
   "source": [
    "### Question4:"
   ]
  },
  {
   "cell_type": "markdown",
   "metadata": {},
   "source": [
    "Execute the cell below. By running this cell, a dataset will be loaded from `patents.csv` file. In this notebook, you are asked to analyze this data in several ways. There are three numpy arrays in this dataset:\n",
    "\n",
    "- `patent_number`: a unique identifier for each patetnt\n",
    "- `patent features`: a vector of 16 features describing several properties of each patent\n",
    "- `category`: the category to which a patent belongs\n"
   ]
  },
  {
   "cell_type": "code",
   "execution_count": 4,
   "metadata": {},
   "outputs": [
    {
     "data": {
      "text/html": [
       "<div>\n",
       "<style scoped>\n",
       "    .dataframe tbody tr th:only-of-type {\n",
       "        vertical-align: middle;\n",
       "    }\n",
       "\n",
       "    .dataframe tbody tr th {\n",
       "        vertical-align: top;\n",
       "    }\n",
       "\n",
       "    .dataframe thead th {\n",
       "        text-align: right;\n",
       "    }\n",
       "</style>\n",
       "<table border=\"1\" class=\"dataframe\">\n",
       "  <thead>\n",
       "    <tr style=\"text-align: right;\">\n",
       "      <th></th>\n",
       "      <th>publication_number</th>\n",
       "      <th>title</th>\n",
       "      <th>cpc_code</th>\n",
       "      <th>patent_embedding</th>\n",
       "      <th>category</th>\n",
       "    </tr>\n",
       "  </thead>\n",
       "  <tbody>\n",
       "    <tr>\n",
       "      <th>0</th>\n",
       "      <td>US-2019250858-A1</td>\n",
       "      <td>memory controller and operating method thereof</td>\n",
       "      <td>G06F3/061</td>\n",
       "      <td>[ 0.00135472  0.01564001 -0.04858465  0.039866...</td>\n",
       "      <td>1</td>\n",
       "    </tr>\n",
       "    <tr>\n",
       "      <th>1</th>\n",
       "      <td>US-1000462-A</td>\n",
       "      <td>corn planter</td>\n",
       "      <td>A01C9/00</td>\n",
       "      <td>[-4.44490612e-02  2.48770583e-02 -5.62837869e-...</td>\n",
       "      <td>6</td>\n",
       "    </tr>\n",
       "    <tr>\n",
       "      <th>2</th>\n",
       "      <td>KR-200146416-Y1</td>\n",
       "      <td>antitheft vehicle security system</td>\n",
       "      <td>B60R25/209</td>\n",
       "      <td>[-2.53110677e-02 -2.04547048e-02  8.63679312e-...</td>\n",
       "      <td>0</td>\n",
       "    </tr>\n",
       "    <tr>\n",
       "      <th>3</th>\n",
       "      <td>KR-0160422-B1</td>\n",
       "      <td>a door opening and shutting apparatus and meth...</td>\n",
       "      <td>D06F37/42</td>\n",
       "      <td>[ 1.21761542e-02  1.97522007e-02 -6.62921891e-...</td>\n",
       "      <td>1</td>\n",
       "    </tr>\n",
       "    <tr>\n",
       "      <th>4</th>\n",
       "      <td>US-952306-A</td>\n",
       "      <td>spray burner</td>\n",
       "      <td>B05B1/3033</td>\n",
       "      <td>[-0.00214472  0.01606156 -0.09518531  0.060160...</td>\n",
       "      <td>0</td>\n",
       "    </tr>\n",
       "  </tbody>\n",
       "</table>\n",
       "</div>"
      ],
      "text/plain": [
       "  publication_number                                              title  \\\n",
       "0   US-2019250858-A1     memory controller and operating method thereof   \n",
       "1       US-1000462-A                                       corn planter   \n",
       "2    KR-200146416-Y1                  antitheft vehicle security system   \n",
       "3      KR-0160422-B1  a door opening and shutting apparatus and meth...   \n",
       "4        US-952306-A                                       spray burner   \n",
       "\n",
       "     cpc_code                                   patent_embedding  category  \n",
       "0   G06F3/061  [ 0.00135472  0.01564001 -0.04858465  0.039866...         1  \n",
       "1    A01C9/00  [-4.44490612e-02  2.48770583e-02 -5.62837869e-...         6  \n",
       "2  B60R25/209  [-2.53110677e-02 -2.04547048e-02  8.63679312e-...         0  \n",
       "3   D06F37/42  [ 1.21761542e-02  1.97522007e-02 -6.62921891e-...         1  \n",
       "4  B05B1/3033  [-0.00214472  0.01606156 -0.09518531  0.060160...         0  "
      ]
     },
     "execution_count": 4,
     "metadata": {},
     "output_type": "execute_result"
    }
   ],
   "source": [
    "import pandas as pd\n",
    "import numpy as np\n",
    "\n",
    "df = pd.read_csv('data/patents.csv')\n",
    "df.head()\n",
    "patent_number = df['publication_number'].to_numpy()\n",
    "patent_features = df['patent_embedding'].to_numpy()\n",
    "temp = []\n",
    "for i in range(patent_features.size):\n",
    "    s = str(patent_features[i])\n",
    "    s1 = s.replace(r'\\n', '')\n",
    "    temp.append(\n",
    "        np.array(s.split()[1:-1], dtype='float')[:16]\n",
    "    )\n",
    "\n",
    "patent_features = np.stack(temp)\n",
    "patent_category = df['category']\n",
    "df.head()"
   ]
  },
  {
   "cell_type": "markdown",
   "metadata": {},
   "source": [
    "#### Part1: Which patent has the highest norm? (Eucledian distance from origin)"
   ]
  },
  {
   "cell_type": "markdown",
   "metadata": {},
   "source": [
    "<div dir=\"rtl\">\n",
    "در این قسمت همان کار بخش قبل را انجام می دهیم با این تفاوت که به جای نزدیک ترین، دور ترین نقطه را از ارایه محاسبه می کنیم\n",
    ".\n",
    "همچنین ارایه و نقطه صفر مرکز را به عنوان ورودی تابع\n",
    "furthest\n",
    "می دهیم. که خروجی آن ایندکس دورترین نقطه از مرکز است.\n"
   ]
  },
  {
   "cell_type": "code",
   "execution_count": 11,
   "metadata": {},
   "outputs": [
    {
     "name": "stdout",
     "output_type": "stream",
     "text": [
      "index of the point with highest norm :  10839 \n",
      "patent_number :  CH-527846-A\n"
     ]
    }
   ],
   "source": [
    "def furthest(X, p):\n",
    "    disp = X - p\n",
    "    return np.argmax((disp*disp).sum(1))\n",
    "\n",
    "#Origin\n",
    "X = np.zeros((1, 16))\n",
    "furthest_indx = furthest(patent_features, X )\n",
    "print(\"index of the point with highest norm : \",furthest_indx,\"\\npatent_number : \",patent_number[furthest_indx])"
   ]
  },
  {
   "cell_type": "markdown",
   "metadata": {},
   "source": [
    "#### Part 2: Find the two patents that are the farthest from eachother"
   ]
  },
  {
   "cell_type": "markdown",
   "metadata": {},
   "source": [
    "<div dir=\"rtl\">\n",
    "در این قسمت میخواهیم ایندکس دو نقطه ای که دورترین از هم هستند را پیدا کنیم.\n",
    "اما متاسفانه هنگام فراخوانی تابع \n",
    "np\n",
    "برای محاسبه ماتریس فاصله ها،\n",
    "با مشکل کرش کردن هسته موجه می شویم.\n",
    "</div>"
   ]
  },
  {
   "cell_type": "code",
   "execution_count": 7,
   "metadata": {},
   "outputs": [
    {
     "ename": "",
     "evalue": "",
     "output_type": "error",
     "traceback": [
      "\u001b[1;31mThe Kernel crashed while executing code in the the current cell or a previous cell. Please review the code in the cell(s) to identify a possible cause of the failure. Click <a href='https://aka.ms/vscodeJupyterKernelCrash'>here</a> for more info. View Jupyter <a href='command:jupyter.viewOutput'>log</a> for further details."
     ]
    },
    {
     "ename": "",
     "evalue": "",
     "output_type": "error",
     "traceback": [
      "\u001b[1;31mCanceled future for execute_request message before replies were done"
     ]
    }
   ],
   "source": [
    "distance_array = np.linalg.norm(patent_features[:, None, :] - patent_features[None, :, :], axis=-1)\n",
    "distance_array = np.triu(distance_array)\n",
    "ind = np.unravel_index(np.argmax(distance_array, axis=None), distance_array.shape)\n",
    "print(ind)\n"
   ]
  },
  {
   "cell_type": "markdown",
   "metadata": {},
   "source": [
    "#### Part 3: Write a function that, given a patent number, finds its nearest neighbour."
   ]
  },
  {
   "cell_type": "markdown",
   "metadata": {},
   "source": [
    "<div dir=\"rtl\">\n",
    "در این قسمت تابعی نوشتیم که ابتدا\n",
    "patent_number\n",
    "را به عنوان ورودی می گیرد و سپس ایندک آن را با استفاده از دستور\n",
    "np.where\n",
    "پیدا کرده و در ادامه نزدیک ترین نقطه به آن ایندکس را پیدا می کند.\n",
    "در آخر نیز ایندکس آن را به عنوان خروجی می دهد."
   ]
  },
  {
   "cell_type": "code",
   "execution_count": 12,
   "metadata": {},
   "outputs": [
    {
     "name": "stdout",
     "output_type": "stream",
     "text": [
      "patent number: US-2015018028-A1 \n",
      " with index:  7514\n"
     ]
    }
   ],
   "source": [
    "def closest(X, p):\n",
    "    disp = X - p\n",
    "    return np.argmin((disp*disp).sum(1))\n",
    "\n",
    "def Find_nearest(the_patent_number):\n",
    "    indx = np.where(patent_number == the_patent_number)\n",
    "    patent_features2 = patent_features\n",
    "    patent_features2 = np.delete(patent_features2,indx,axis = 0)\n",
    "    return closest (patent_features2, patent_features[indx])\n",
    "\n",
    "\n",
    "print(\"patent number:\",patent_number[Find_nearest('US-2019250858-A1')],\"\\n with index: \",Find_nearest('US-2019250858-A1'))\n",
    "\n",
    "    "
   ]
  },
  {
   "cell_type": "markdown",
   "metadata": {},
   "source": [
    "#### Part 4: How many patents have a nearest neighbour that is in the same category?"
   ]
  },
  {
   "cell_type": "code",
   "execution_count": 18,
   "metadata": {},
   "outputs": [
    {
     "ename": "ValueError",
     "evalue": "operands could not be broadcast together with shapes (15687,16) (2,16) ",
     "output_type": "error",
     "traceback": [
      "\u001b[0;31m---------------------------------------------------------------------------\u001b[0m",
      "\u001b[0;31mValueError\u001b[0m                                Traceback (most recent call last)",
      "\u001b[1;32m/Users/carltonj.lloyd/Desktop/HW1_KarimiArpanahi_810100447/HW1.ipynb Cell 25\u001b[0m in \u001b[0;36m<cell line: 5>\u001b[0;34m()\u001b[0m\n\u001b[1;32m      <a href='vscode-notebook-cell:/Users/carltonj.lloyd/Desktop/HW1_KarimiArpanahi_810100447/HW1.ipynb#X33sZmlsZQ%3D%3D?line=2'>3</a>\u001b[0m patent_category2 \u001b[39m=\u001b[39m patent_category\u001b[39m.\u001b[39mto_numpy()\n\u001b[1;32m      <a href='vscode-notebook-cell:/Users/carltonj.lloyd/Desktop/HW1_KarimiArpanahi_810100447/HW1.ipynb#X33sZmlsZQ%3D%3D?line=4'>5</a>\u001b[0m \u001b[39mfor\u001b[39;00m pn \u001b[39min\u001b[39;00m patent_number :\n\u001b[0;32m----> <a href='vscode-notebook-cell:/Users/carltonj.lloyd/Desktop/HW1_KarimiArpanahi_810100447/HW1.ipynb#X33sZmlsZQ%3D%3D?line=5'>6</a>\u001b[0m     \u001b[39mif\u001b[39;00m( patent_category2[Find_nearest(pn)] \u001b[39m==\u001b[39m patent_category2[np\u001b[39m.\u001b[39mwhere(patent_number \u001b[39m==\u001b[39m pn) ]   ):\n\u001b[1;32m      <a href='vscode-notebook-cell:/Users/carltonj.lloyd/Desktop/HW1_KarimiArpanahi_810100447/HW1.ipynb#X33sZmlsZQ%3D%3D?line=6'>7</a>\u001b[0m         i \u001b[39m=\u001b[39m i\u001b[39m+\u001b[39m\u001b[39m1\u001b[39m\n",
      "\u001b[1;32m/Users/carltonj.lloyd/Desktop/HW1_KarimiArpanahi_810100447/HW1.ipynb Cell 25\u001b[0m in \u001b[0;36mFind_nearest\u001b[0;34m(the_patent_number)\u001b[0m\n\u001b[1;32m      <a href='vscode-notebook-cell:/Users/carltonj.lloyd/Desktop/HW1_KarimiArpanahi_810100447/HW1.ipynb#X33sZmlsZQ%3D%3D?line=6'>7</a>\u001b[0m patent_features2 \u001b[39m=\u001b[39m patent_features\n\u001b[1;32m      <a href='vscode-notebook-cell:/Users/carltonj.lloyd/Desktop/HW1_KarimiArpanahi_810100447/HW1.ipynb#X33sZmlsZQ%3D%3D?line=7'>8</a>\u001b[0m patent_features2 \u001b[39m=\u001b[39m np\u001b[39m.\u001b[39mdelete(patent_features2,indx,axis \u001b[39m=\u001b[39m \u001b[39m0\u001b[39m)\n\u001b[0;32m----> <a href='vscode-notebook-cell:/Users/carltonj.lloyd/Desktop/HW1_KarimiArpanahi_810100447/HW1.ipynb#X33sZmlsZQ%3D%3D?line=8'>9</a>\u001b[0m \u001b[39mreturn\u001b[39;00m closest (patent_features2, patent_features[indx])\n",
      "\u001b[1;32m/Users/carltonj.lloyd/Desktop/HW1_KarimiArpanahi_810100447/HW1.ipynb Cell 25\u001b[0m in \u001b[0;36mclosest\u001b[0;34m(X, p)\u001b[0m\n\u001b[1;32m      <a href='vscode-notebook-cell:/Users/carltonj.lloyd/Desktop/HW1_KarimiArpanahi_810100447/HW1.ipynb#X33sZmlsZQ%3D%3D?line=0'>1</a>\u001b[0m \u001b[39mdef\u001b[39;00m \u001b[39mclosest\u001b[39m(X, p):\n\u001b[0;32m----> <a href='vscode-notebook-cell:/Users/carltonj.lloyd/Desktop/HW1_KarimiArpanahi_810100447/HW1.ipynb#X33sZmlsZQ%3D%3D?line=1'>2</a>\u001b[0m     disp \u001b[39m=\u001b[39m X \u001b[39m-\u001b[39;49m p\n\u001b[1;32m      <a href='vscode-notebook-cell:/Users/carltonj.lloyd/Desktop/HW1_KarimiArpanahi_810100447/HW1.ipynb#X33sZmlsZQ%3D%3D?line=2'>3</a>\u001b[0m     \u001b[39mreturn\u001b[39;00m np\u001b[39m.\u001b[39margmin((disp\u001b[39m*\u001b[39mdisp)\u001b[39m.\u001b[39msum(\u001b[39m1\u001b[39m))\n",
      "\u001b[0;31mValueError\u001b[0m: operands could not be broadcast together with shapes (15687,16) (2,16) "
     ]
    }
   ],
   "source": [
    "#patent_category( Find_nearest('US-2019250858-A1') )\n",
    "cat0 = 0   \n",
    "cat1 = 0 \n",
    "cat2 = 0 \n",
    "cat3 = 0 \n",
    "patent_category2 = patent_category.to_numpy()\n",
    "\n",
    "for pn in patent_number :\n",
    "    if( patent_category2[Find_nearest(pn)] == patent_category2[np.where(patent_number == pn) ]   ):\n",
    "        if(patent_category2[Find_nearest(pn)] == 0):\n",
    "            cat0 = cat0+1\n",
    "        elif(patent_category2[Find_nearest(pn)] == 1):\n",
    "            cat1 = cat1+1\n",
    "        elif(patent_category2[Find_nearest(pn)] == 2):\n",
    "            cat2 = cat2+1\n",
    "        elif(patent_category2[Find_nearest(pn)] == 3):\n",
    "            cat3 = cat3+1"
   ]
  },
  {
   "cell_type": "markdown",
   "metadata": {},
   "source": [
    "#### Part 5: What is the average and std of distances between every pair of patents within a category? Using these calculated quantities, which cluster do you think is more condensed? Which one is more scattered?"
   ]
  },
  {
   "cell_type": "code",
   "execution_count": null,
   "metadata": {},
   "outputs": [],
   "source": []
  },
  {
   "cell_type": "markdown",
   "metadata": {},
   "source": [
    "# Working with different Data Files"
   ]
  },
  {
   "cell_type": "markdown",
   "metadata": {},
   "source": [
    "## .txt"
   ]
  },
  {
   "cell_type": "markdown",
   "metadata": {},
   "source": [
    "### Part 1: store words in a list"
   ]
  },
  {
   "cell_type": "markdown",
   "metadata": {},
   "source": [
    "<div dir=\"rtl\">\n",
    "در این قسمت ابتدا فایل\n",
    "zen_of_python.txt\n",
    "را می خوانیم. سپس تمام کلمات را جدا کرده و در یک ارایه ذخیره می کنیم. همچنین تعداد تکرار هر یک از کلمات را نیز بدست می اوریم.\n",
    "</div>"
   ]
  },
  {
   "cell_type": "code",
   "execution_count": 7,
   "metadata": {},
   "outputs": [],
   "source": [
    "\n",
    "\n",
    "import string\n",
    "  \n",
    "# Open the file in read mode\n",
    "text = open(\"./data/zen_of_python.txt\", \"r\")\n",
    "text = [line for line in text if line.strip() != \"\"]\n",
    "\n",
    "# Create an empty dictionary\n",
    "d = dict()\n",
    "  \n",
    "# Loop through each line of the file\n",
    "for line in text:\n",
    "    # Remove the leading spaces and newline character\n",
    "    line = line.strip()\n",
    "  \n",
    "    # Convert the characters in line to\n",
    "    # lowercase to avoid case mismatch\n",
    "    line = line.lower()\n",
    "  \n",
    "    # Remove the punctuation marks from the line\n",
    "    line = line.translate(line.maketrans(\"\", \"\", string.punctuation))\n",
    "  \n",
    "    # Split the line into words\n",
    "    words = line.split(\" \")\n",
    "  \n",
    "    # Iterate over each word in line\n",
    "    for word in words:\n",
    "        # Check if the word is already in dictionary\n",
    "        if word in d:\n",
    "            # Increment count of word by 1\n",
    "            d[word] = d[word] + 1\n",
    "        else:\n",
    "            # Add the word to dictionary with count 1\n",
    "            d[word] = 1\n",
    "\n",
    "arr = list( d.keys() )\n"
   ]
  },
  {
   "cell_type": "markdown",
   "metadata": {},
   "source": [
    "### Part 2: Occurrence of each character"
   ]
  },
  {
   "cell_type": "markdown",
   "metadata": {},
   "source": [
    "<div dir=\"rtl\">\n",
    "در این قسمت تعداد تکرار هر حرف را بدست می آوریم. برای این کار ابتدا یک حلقه بر روی همه خط ها و یک حلقه بر روی همه کلمات می زنیم و در انتها تعداد تکرار هر حرف را نمایش می دهیم.\n",
    "</div>"
   ]
  },
  {
   "cell_type": "code",
   "execution_count": 8,
   "metadata": {},
   "outputs": [
    {
     "data": {
      "text/plain": [
       "{'t': 83,\n",
       " 'h': 32,\n",
       " 'e': 94,\n",
       " ' ': 129,\n",
       " 'z': 1,\n",
       " 'n': 46,\n",
       " 'o': 47,\n",
       " 'f': 12,\n",
       " 'p': 22,\n",
       " 'y': 17,\n",
       " 'b': 21,\n",
       " 'i': 54,\n",
       " 'm': 16,\n",
       " 'r': 36,\n",
       " 's': 46,\n",
       " 'a': 55,\n",
       " 'u': 24,\n",
       " 'l': 34,\n",
       " 'g': 11,\n",
       " 'x': 6,\n",
       " 'c': 22,\n",
       " 'd': 18,\n",
       " 'k': 2,\n",
       " 'v': 5,\n",
       " 'w': 5,\n",
       " '2': 1,\n",
       " '1': 2,\n",
       " '4': 1,\n",
       " '3': 1,\n",
       " '6': 1,\n",
       " '7': 2}"
      ]
     },
     "execution_count": 8,
     "metadata": {},
     "output_type": "execute_result"
    }
   ],
   "source": [
    "freq_dict = dict()\n",
    "  \n",
    "# Loop through each line of the file\n",
    "for line in text:\n",
    "    line = line.strip()\n",
    "    line = line.lower()\n",
    "    line = line.translate(line.maketrans(\"\", \"\", string.punctuation))\n",
    "  \n",
    "    for i in line: \n",
    "        if i in freq_dict: \n",
    "            freq_dict[i]=freq_dict[i] + 1\n",
    "        else: \n",
    "            freq_dict[i] = 1\n",
    "\n",
    "arr = list( freq_dict)\n",
    "freq_dict"
   ]
  },
  {
   "cell_type": "markdown",
   "metadata": {},
   "source": [
    "### Part 3: Occurrence of each word"
   ]
  },
  {
   "cell_type": "markdown",
   "metadata": {},
   "source": [
    "<div dir=\"rtl\">\n",
    "در این قسمت تعداد تکرار هر کلمه را نمایش می دهیم.\n",
    "</div>"
   ]
  },
  {
   "cell_type": "code",
   "execution_count": 9,
   "metadata": {},
   "outputs": [
    {
     "data": {
      "text/plain": [
       "['the : 6',\n",
       " 'zen : 1',\n",
       " 'of : 3',\n",
       " 'python : 1',\n",
       " 'by : 1',\n",
       " 'tim : 1',\n",
       " 'peters : 1',\n",
       " 'beautiful : 1',\n",
       " 'is : 10',\n",
       " 'better : 8',\n",
       " 'than : 8',\n",
       " 'ugly : 1',\n",
       " 'explicit : 1',\n",
       " 'implicit : 1',\n",
       " 'simple : 1',\n",
       " 'complex : 2',\n",
       " 'complicated : 1',\n",
       " 'flat : 1',\n",
       " 'nested : 1',\n",
       " 'sparse : 1',\n",
       " 'dense : 1',\n",
       " 'readability : 1',\n",
       " 'counts : 1',\n",
       " 'special : 2',\n",
       " 'cases : 1',\n",
       " 'arent : 1',\n",
       " 'enough : 1',\n",
       " 'to : 5',\n",
       " 'break : 1',\n",
       " 'rules : 1',\n",
       " 'although : 3',\n",
       " 'practicality : 1',\n",
       " 'beats : 1',\n",
       " 'purity : 1',\n",
       " 'errors : 1',\n",
       " 'should : 2',\n",
       " 'never : 3',\n",
       " 'pass : 1',\n",
       " 'silently : 1',\n",
       " 'unless : 2',\n",
       " 'explicitly : 1',\n",
       " 'silenced : 1',\n",
       " 'in : 1',\n",
       " 'face : 1',\n",
       " 'ambiguity : 1',\n",
       " 'refuse : 1',\n",
       " 'temptation : 1',\n",
       " 'guess : 1',\n",
       " 'there : 1',\n",
       " 'be : 3',\n",
       " 'one : 3',\n",
       " 'and : 1',\n",
       " 'preferably : 1',\n",
       " 'only : 1',\n",
       " 'obvious : 2',\n",
       " 'way : 2',\n",
       " 'do : 2',\n",
       " 'it : 2',\n",
       " 'that : 1',\n",
       " 'may : 2',\n",
       " 'not : 1',\n",
       " 'at : 1',\n",
       " 'first : 1',\n",
       " 'youre : 1',\n",
       " 'dutch : 1',\n",
       " 'now : 2',\n",
       " 'often : 1',\n",
       " 'right : 1',\n",
       " 'if : 2',\n",
       " 'implementation : 2',\n",
       " 'hard : 1',\n",
       " 'explain : 2',\n",
       " 'its : 1',\n",
       " 'a : 2',\n",
       " 'bad : 1',\n",
       " 'idea : 3',\n",
       " 'easy : 1',\n",
       " 'good : 1',\n",
       " 'namespaces : 1',\n",
       " 'are : 1',\n",
       " 'honking : 1',\n",
       " 'great : 1',\n",
       " ' : 1',\n",
       " 'lets : 1',\n",
       " 'more : 1',\n",
       " 'those : 1',\n",
       " 'line : 1',\n",
       " 'count21 : 1',\n",
       " 'word : 1',\n",
       " 'count : 2',\n",
       " '143 : 1',\n",
       " 'character : 1',\n",
       " '677 : 1']"
      ]
     },
     "execution_count": 9,
     "metadata": {},
     "output_type": "execute_result"
    }
   ],
   "source": [
    "word_freq = []\n",
    "# Print the contents of dictionary\n",
    "for key in list(d.keys()):\n",
    "    word_freq.append(key+  \" : \"+ str( d[key] ))\n",
    "word_freq"
   ]
  },
  {
   "cell_type": "markdown",
   "metadata": {},
   "source": [
    "### Part 4: Define a function for saving stats at the end of `.txt` file"
   ]
  },
  {
   "cell_type": "markdown",
   "metadata": {},
   "source": [
    "<div dir=\"rtl\">\n",
    "یک تابع به نام\n",
    "text_stats\n",
    "می اسزیم که ادرس فایل را به عنوان ورودی می گیرد و در انتهای آن تعداد خط ها، تعداد کلمات و تعداد حروف را ذخیره می کند.\n",
    "</div>"
   ]
  },
  {
   "cell_type": "code",
   "execution_count": 12,
   "metadata": {},
   "outputs": [],
   "source": [
    "def text_stats(inF):\n",
    "\n",
    "    num_lines = 0\n",
    "    num_words = 0\n",
    "    num_chars = 0\n",
    "\n",
    "    with open(inF, 'r') as input_file:\n",
    "\n",
    "        for line in input_file:\n",
    "            line = line.translate(line.maketrans(\"\", \"\", string.punctuation))\n",
    "            line = line.replace(\" -- \",\"\")\n",
    "            #print(line)\n",
    "            num_lines += 1\n",
    "            line_words = line.split()\n",
    "            num_words += len(line_words)\n",
    "            for word in line_words:\n",
    "                num_chars += len(word)\n",
    "\t\t\t\t\n",
    "\t\t\t\t\n",
    "\t#input_file.close()\n",
    "\n",
    "\n",
    "    file = open(inF, \"a\")\t\n",
    "    file.write('\\nline count:' +  str(num_lines ) + '\\nword count: ' + str(num_words ) +'\\ncharacter count: ' + str(num_chars) + \"\\n\" )\n",
    "\n",
    "    print  ( 'line count: %i, word count: %i, character count: %i' % (num_lines, num_words, num_chars) )\n",
    "\n",
    "\n",
    "\n",
    "\n",
    "\n",
    "\n"
   ]
  },
  {
   "cell_type": "markdown",
   "metadata": {},
   "source": [
    "### Part 5: Apply your defined function on 'zen_of_python.txt`"
   ]
  },
  {
   "cell_type": "markdown",
   "metadata": {},
   "source": [
    "<div dir=\"rtl\">\n",
    "در این قسمت تابع بالا را فراخوانی می کنیم تا تعداد خط، کلمه و حروف فایل را در انتهای آن ذخیره کند.\n",
    "</div>"
   ]
  },
  {
   "cell_type": "code",
   "execution_count": 13,
   "metadata": {},
   "outputs": [
    {
     "name": "stdout",
     "output_type": "stream",
     "text": [
      "line count: 21, word count: 143, character count: 677\n"
     ]
    }
   ],
   "source": [
    "text_stats(\"./data/zen_of_python.txt\")"
   ]
  },
  {
   "cell_type": "markdown",
   "metadata": {},
   "source": [
    "## csv"
   ]
  },
  {
   "cell_type": "markdown",
   "metadata": {},
   "source": [
    "### Part 1: number of features and data points"
   ]
  },
  {
   "cell_type": "markdown",
   "metadata": {},
   "source": [
    "<div dir=\"rtl\">\n",
    "در قسمت اول ابتدا داده ها را با استفاده از کتابخانه\n",
    "pandas\n",
    "می خوانیم. سپس تعداد سطر ها و ستون های داده ها را چاپ می کنیم:\n",
    "</div>"
   ]
  },
  {
   "cell_type": "code",
   "execution_count": 14,
   "metadata": {},
   "outputs": [
    {
     "name": "stdout",
     "output_type": "stream",
     "text": [
      "Number of Rows : 15689\n",
      "Number of Columns :  5\n"
     ]
    }
   ],
   "source": [
    "import pandas as pd\n",
    "df = pd.read_csv(\"./data/patents.csv\")\n",
    "df.shape\n",
    "\n",
    "print(\"Number of Rows :\",df.shape[0])\n",
    "print(\"Number of Columns : \",df.shape[1])"
   ]
  },
  {
   "cell_type": "markdown",
   "metadata": {},
   "source": [
    "### Part 2: Name of Features"
   ]
  },
  {
   "cell_type": "markdown",
   "metadata": {},
   "source": [
    "<div dir=\"rtl\">\n",
    "در این قسمت اسم ویژگی ها را چاپ می کنیم.\n",
    "</div>"
   ]
  },
  {
   "cell_type": "code",
   "execution_count": 15,
   "metadata": {},
   "outputs": [
    {
     "name": "stdout",
     "output_type": "stream",
     "text": [
      "Name of the features are : \n",
      "['publication_number', 'title', 'cpc_code', 'patent_embedding', 'category']\n"
     ]
    }
   ],
   "source": [
    "print(\"Name of the features are : \")\n",
    "print(list(df.columns))\n"
   ]
  },
  {
   "cell_type": "markdown",
   "metadata": {},
   "source": [
    "### Part 3: Print Stats of Dataframe"
   ]
  },
  {
   "cell_type": "markdown",
   "metadata": {},
   "source": [
    "<div dir=\"rtl\">\n",
    "در این قسمت با استفاده از متد \n",
    "describe\n",
    " کتابخانه\n",
    " pandas\n",
    " ، تمام داده های آماری ستون \n",
    " category\n",
    " را بدست می اوریم و چاپ می کنیم.\n",
    "</div>"
   ]
  },
  {
   "cell_type": "code",
   "execution_count": 16,
   "metadata": {},
   "outputs": [
    {
     "data": {
      "text/plain": [
       "count    15689.000000\n",
       "mean         3.854229\n",
       "std          2.499307\n",
       "min          0.000000\n",
       "25%          1.000000\n",
       "50%          4.000000\n",
       "75%          6.000000\n",
       "max          7.000000\n",
       "Name: category, dtype: float64"
      ]
     },
     "execution_count": 16,
     "metadata": {},
     "output_type": "execute_result"
    }
   ],
   "source": [
    "df['category'].describe()"
   ]
  },
  {
   "cell_type": "markdown",
   "metadata": {},
   "source": [
    "### Part 4: print rows."
   ]
  },
  {
   "cell_type": "markdown",
   "metadata": {},
   "source": [
    "<div dir=\"rtl\">\n",
    "در پارت چهارم و پنجم : ابتدا ۵ سطر اول دیتاست سپس ۵ سطر اخر و در انتها، ۵ سطر رندوم را نمایش می دهیم.\n",
    "\n",
    "\n",
    "در پارت پنجم نیز نوع داده هر ستون را نمایش می دهیم.\n",
    "\n",
    "</div>"
   ]
  },
  {
   "cell_type": "code",
   "execution_count": 17,
   "metadata": {},
   "outputs": [
    {
     "data": {
      "text/html": [
       "<div>\n",
       "<style scoped>\n",
       "    .dataframe tbody tr th:only-of-type {\n",
       "        vertical-align: middle;\n",
       "    }\n",
       "\n",
       "    .dataframe tbody tr th {\n",
       "        vertical-align: top;\n",
       "    }\n",
       "\n",
       "    .dataframe thead th {\n",
       "        text-align: right;\n",
       "    }\n",
       "</style>\n",
       "<table border=\"1\" class=\"dataframe\">\n",
       "  <thead>\n",
       "    <tr style=\"text-align: right;\">\n",
       "      <th></th>\n",
       "      <th>publication_number</th>\n",
       "      <th>title</th>\n",
       "      <th>cpc_code</th>\n",
       "      <th>patent_embedding</th>\n",
       "      <th>category</th>\n",
       "    </tr>\n",
       "  </thead>\n",
       "  <tbody>\n",
       "    <tr>\n",
       "      <th>0</th>\n",
       "      <td>US-2019250858-A1</td>\n",
       "      <td>memory controller and operating method thereof</td>\n",
       "      <td>G06F3/061</td>\n",
       "      <td>[ 0.00135472  0.01564001 -0.04858465  0.039866...</td>\n",
       "      <td>1</td>\n",
       "    </tr>\n",
       "    <tr>\n",
       "      <th>1</th>\n",
       "      <td>US-1000462-A</td>\n",
       "      <td>corn planter</td>\n",
       "      <td>A01C9/00</td>\n",
       "      <td>[-4.44490612e-02  2.48770583e-02 -5.62837869e-...</td>\n",
       "      <td>6</td>\n",
       "    </tr>\n",
       "    <tr>\n",
       "      <th>2</th>\n",
       "      <td>KR-200146416-Y1</td>\n",
       "      <td>antitheft vehicle security system</td>\n",
       "      <td>B60R25/209</td>\n",
       "      <td>[-2.53110677e-02 -2.04547048e-02  8.63679312e-...</td>\n",
       "      <td>0</td>\n",
       "    </tr>\n",
       "    <tr>\n",
       "      <th>3</th>\n",
       "      <td>KR-0160422-B1</td>\n",
       "      <td>a door opening and shutting apparatus and meth...</td>\n",
       "      <td>D06F37/42</td>\n",
       "      <td>[ 1.21761542e-02  1.97522007e-02 -6.62921891e-...</td>\n",
       "      <td>1</td>\n",
       "    </tr>\n",
       "    <tr>\n",
       "      <th>4</th>\n",
       "      <td>US-952306-A</td>\n",
       "      <td>spray burner</td>\n",
       "      <td>B05B1/3033</td>\n",
       "      <td>[-0.00214472  0.01606156 -0.09518531  0.060160...</td>\n",
       "      <td>0</td>\n",
       "    </tr>\n",
       "  </tbody>\n",
       "</table>\n",
       "</div>"
      ],
      "text/plain": [
       "  publication_number                                              title  \\\n",
       "0   US-2019250858-A1     memory controller and operating method thereof   \n",
       "1       US-1000462-A                                       corn planter   \n",
       "2    KR-200146416-Y1                  antitheft vehicle security system   \n",
       "3      KR-0160422-B1  a door opening and shutting apparatus and meth...   \n",
       "4        US-952306-A                                       spray burner   \n",
       "\n",
       "     cpc_code                                   patent_embedding  category  \n",
       "0   G06F3/061  [ 0.00135472  0.01564001 -0.04858465  0.039866...         1  \n",
       "1    A01C9/00  [-4.44490612e-02  2.48770583e-02 -5.62837869e-...         6  \n",
       "2  B60R25/209  [-2.53110677e-02 -2.04547048e-02  8.63679312e-...         0  \n",
       "3   D06F37/42  [ 1.21761542e-02  1.97522007e-02 -6.62921891e-...         1  \n",
       "4  B05B1/3033  [-0.00214472  0.01606156 -0.09518531  0.060160...         0  "
      ]
     },
     "execution_count": 17,
     "metadata": {},
     "output_type": "execute_result"
    }
   ],
   "source": [
    "# 5 first rows\n",
    "df.head(5)"
   ]
  },
  {
   "cell_type": "code",
   "execution_count": 18,
   "metadata": {},
   "outputs": [
    {
     "data": {
      "text/html": [
       "<div>\n",
       "<style scoped>\n",
       "    .dataframe tbody tr th:only-of-type {\n",
       "        vertical-align: middle;\n",
       "    }\n",
       "\n",
       "    .dataframe tbody tr th {\n",
       "        vertical-align: top;\n",
       "    }\n",
       "\n",
       "    .dataframe thead th {\n",
       "        text-align: right;\n",
       "    }\n",
       "</style>\n",
       "<table border=\"1\" class=\"dataframe\">\n",
       "  <thead>\n",
       "    <tr style=\"text-align: right;\">\n",
       "      <th></th>\n",
       "      <th>publication_number</th>\n",
       "      <th>title</th>\n",
       "      <th>cpc_code</th>\n",
       "      <th>patent_embedding</th>\n",
       "      <th>category</th>\n",
       "    </tr>\n",
       "  </thead>\n",
       "  <tbody>\n",
       "    <tr>\n",
       "      <th>15684</th>\n",
       "      <td>AT-415717-T</td>\n",
       "      <td>method and device for produce a low pressure w...</td>\n",
       "      <td>H01M8/04104</td>\n",
       "      <td>[ 1.77878514e-02  3.53233777e-02 -3.37363742e-...</td>\n",
       "      <td>1</td>\n",
       "    </tr>\n",
       "    <tr>\n",
       "      <th>15685</th>\n",
       "      <td>AT-424202-T</td>\n",
       "      <td>substitute _NUMBER_ thio _NUMBER_ _NUMBER_ dic...</td>\n",
       "      <td>C07D417/12</td>\n",
       "      <td>[-0.03664465 -0.01075565 -0.02483719 -0.033502...</td>\n",
       "      <td>5</td>\n",
       "    </tr>\n",
       "    <tr>\n",
       "      <th>15686</th>\n",
       "      <td>CA-2952951-A1</td>\n",
       "      <td>end tip for a vehicle wiper blade</td>\n",
       "      <td>B60S1/3894</td>\n",
       "      <td>[-4.39246558e-02  2.96350904e-02 -2.31920835e-...</td>\n",
       "      <td>0</td>\n",
       "    </tr>\n",
       "    <tr>\n",
       "      <th>15687</th>\n",
       "      <td>CH-608317-A</td>\n",
       "      <td>process for the compressive shrinkage of a web...</td>\n",
       "      <td>D06C21/00</td>\n",
       "      <td>[-3.34328553e-03  1.02757774e-02 -2.01825500e-...</td>\n",
       "      <td>6</td>\n",
       "    </tr>\n",
       "    <tr>\n",
       "      <th>15688</th>\n",
       "      <td>CN-100513251-C</td>\n",
       "      <td>system and process for open cover vessel hull</td>\n",
       "      <td>B63B71/00</td>\n",
       "      <td>[-1.98921170e-02  3.07969116e-02 -2.46879123e-...</td>\n",
       "      <td>6</td>\n",
       "    </tr>\n",
       "  </tbody>\n",
       "</table>\n",
       "</div>"
      ],
      "text/plain": [
       "      publication_number                                              title  \\\n",
       "15684        AT-415717-T  method and device for produce a low pressure w...   \n",
       "15685        AT-424202-T  substitute _NUMBER_ thio _NUMBER_ _NUMBER_ dic...   \n",
       "15686      CA-2952951-A1                  end tip for a vehicle wiper blade   \n",
       "15687        CH-608317-A  process for the compressive shrinkage of a web...   \n",
       "15688     CN-100513251-C      system and process for open cover vessel hull   \n",
       "\n",
       "          cpc_code                                   patent_embedding  \\\n",
       "15684  H01M8/04104  [ 1.77878514e-02  3.53233777e-02 -3.37363742e-...   \n",
       "15685   C07D417/12  [-0.03664465 -0.01075565 -0.02483719 -0.033502...   \n",
       "15686   B60S1/3894  [-4.39246558e-02  2.96350904e-02 -2.31920835e-...   \n",
       "15687    D06C21/00  [-3.34328553e-03  1.02757774e-02 -2.01825500e-...   \n",
       "15688    B63B71/00  [-1.98921170e-02  3.07969116e-02 -2.46879123e-...   \n",
       "\n",
       "       category  \n",
       "15684         1  \n",
       "15685         5  \n",
       "15686         0  \n",
       "15687         6  \n",
       "15688         6  "
      ]
     },
     "execution_count": 18,
     "metadata": {},
     "output_type": "execute_result"
    }
   ],
   "source": [
    "# 5 last rows\n",
    "df.tail(5)"
   ]
  },
  {
   "cell_type": "code",
   "execution_count": 19,
   "metadata": {},
   "outputs": [
    {
     "data": {
      "text/html": [
       "<div>\n",
       "<style scoped>\n",
       "    .dataframe tbody tr th:only-of-type {\n",
       "        vertical-align: middle;\n",
       "    }\n",
       "\n",
       "    .dataframe tbody tr th {\n",
       "        vertical-align: top;\n",
       "    }\n",
       "\n",
       "    .dataframe thead th {\n",
       "        text-align: right;\n",
       "    }\n",
       "</style>\n",
       "<table border=\"1\" class=\"dataframe\">\n",
       "  <thead>\n",
       "    <tr style=\"text-align: right;\">\n",
       "      <th></th>\n",
       "      <th>publication_number</th>\n",
       "      <th>title</th>\n",
       "      <th>cpc_code</th>\n",
       "      <th>patent_embedding</th>\n",
       "      <th>category</th>\n",
       "    </tr>\n",
       "  </thead>\n",
       "  <tbody>\n",
       "    <tr>\n",
       "      <th>741</th>\n",
       "      <td>US-1922233-A</td>\n",
       "      <td>method and mean for pack collapsible tube and ...</td>\n",
       "      <td>B65D77/044</td>\n",
       "      <td>[-1.22533338e-02  2.40723472e-02 -5.39498292e-...</td>\n",
       "      <td>6</td>\n",
       "    </tr>\n",
       "    <tr>\n",
       "      <th>1638</th>\n",
       "      <td>KR-101385448-B1</td>\n",
       "      <td>circuit for drive source wire and display devi...</td>\n",
       "      <td>G09G3/3688</td>\n",
       "      <td>[-0.00333105  0.03246626 -0.01936602  0.041413...</td>\n",
       "      <td>6</td>\n",
       "    </tr>\n",
       "    <tr>\n",
       "      <th>8532</th>\n",
       "      <td>AT-195247-T</td>\n",
       "      <td>chelate preparation contain alpha diamine comp...</td>\n",
       "      <td>C07D333/22</td>\n",
       "      <td>[ 0.0026285  -0.01979233 -0.0516644  -0.015090...</td>\n",
       "      <td>2</td>\n",
       "    </tr>\n",
       "    <tr>\n",
       "      <th>7851</th>\n",
       "      <td>US-3877206-A</td>\n",
       "      <td>mow machine</td>\n",
       "      <td>A01D34/695</td>\n",
       "      <td>[ 4.56275195e-02 -1.38634816e-02 -3.80074233e-...</td>\n",
       "      <td>4</td>\n",
       "    </tr>\n",
       "    <tr>\n",
       "      <th>8845</th>\n",
       "      <td>CA-2354587-A1</td>\n",
       "      <td>method of control thermal therapy</td>\n",
       "      <td>A61B18/1815</td>\n",
       "      <td>[ 1.88784543e-02 -5.59109822e-03 -3.98243181e-...</td>\n",
       "      <td>3</td>\n",
       "    </tr>\n",
       "  </tbody>\n",
       "</table>\n",
       "</div>"
      ],
      "text/plain": [
       "     publication_number                                              title  \\\n",
       "741        US-1922233-A  method and mean for pack collapsible tube and ...   \n",
       "1638    KR-101385448-B1  circuit for drive source wire and display devi...   \n",
       "8532        AT-195247-T  chelate preparation contain alpha diamine comp...   \n",
       "7851       US-3877206-A                                        mow machine   \n",
       "8845      CA-2354587-A1                  method of control thermal therapy   \n",
       "\n",
       "         cpc_code                                   patent_embedding  category  \n",
       "741    B65D77/044  [-1.22533338e-02  2.40723472e-02 -5.39498292e-...         6  \n",
       "1638   G09G3/3688  [-0.00333105  0.03246626 -0.01936602  0.041413...         6  \n",
       "8532   C07D333/22  [ 0.0026285  -0.01979233 -0.0516644  -0.015090...         2  \n",
       "7851   A01D34/695  [ 4.56275195e-02 -1.38634816e-02 -3.80074233e-...         4  \n",
       "8845  A61B18/1815  [ 1.88784543e-02 -5.59109822e-03 -3.98243181e-...         3  "
      ]
     },
     "execution_count": 19,
     "metadata": {},
     "output_type": "execute_result"
    }
   ],
   "source": [
    "# 5 random row\n",
    "df.sample(5)"
   ]
  },
  {
   "cell_type": "code",
   "execution_count": 20,
   "metadata": {},
   "outputs": [
    {
     "name": "stdout",
     "output_type": "stream",
     "text": [
      "Data Type of each column is :\n"
     ]
    },
    {
     "data": {
      "text/plain": [
       "publication_number    object\n",
       "title                 object\n",
       "cpc_code              object\n",
       "patent_embedding      object\n",
       "category               int64\n",
       "dtype: object"
      ]
     },
     "execution_count": 20,
     "metadata": {},
     "output_type": "execute_result"
    }
   ],
   "source": [
    "# Each column dta type:\n",
    "print(\"Data Type of each column is :\")\n",
    "df.dtypes"
   ]
  },
  {
   "cell_type": "markdown",
   "metadata": {},
   "source": [
    "### Part 5: use iloc and loc to select rows"
   ]
  },
  {
   "cell_type": "markdown",
   "metadata": {},
   "source": [
    "<div dir=\"rtl\">\n",
    " رد این قسمت نیز ابتدا ویژگی \n",
    " title\n",
    " سطر های ۱۰۲۴ تا ۲۰۴۸ را چاپ می کنیم.\n",
    " \n",
    " در مرحله اول این کار را با متد\n",
    " loc\n",
    " انجام می دهیم. این متد برای انتخاب بر اساس سطر ها است(بر خلاف \n",
    " iloc\n",
    "  که باید به آن ورودی شماره ستون داده شود.\n",
    "  )\n",
    "  \n",
    "  سپس در مرحله دوم از متد\n",
    "  iloc\n",
    "  استفاده می کنیم. یکی دیگر از تفاوت های این دو متد این است که در \n",
    "  loc\n",
    "  عدد اخر نوشته شده، در داده های خروجه است، اما در \n",
    "  iloc\n",
    "  اخرین عدد انتخابی در داده های خروجی نیست.\n",
    "</div>"
   ]
  },
  {
   "cell_type": "code",
   "execution_count": 21,
   "metadata": {},
   "outputs": [
    {
     "data": {
      "text/plain": [
       "1024    device for purple coupling of rotatable axle o...\n",
       "1025                                     heat pump system\n",
       "1026    condensation dryer comprise a heat pump and me...\n",
       "1027                     animal _NUMBER_ plead ingredient\n",
       "1028                      electrostatic dust precipitator\n",
       "                              ...                        \n",
       "2044                  crystalline anti htnfalpha antibody\n",
       "2045    method information processing apparatus and co...\n",
       "2046        pork rind bait and method of prepare the same\n",
       "2047    process for the treatment of titanium contain ...\n",
       "2048    air condition system of a motor vehicle and me...\n",
       "Name: title, Length: 1025, dtype: object"
      ]
     },
     "execution_count": 21,
     "metadata": {},
     "output_type": "execute_result"
    }
   ],
   "source": [
    "# loc\n",
    "df.loc[1024:2048,'title']"
   ]
  },
  {
   "cell_type": "code",
   "execution_count": 22,
   "metadata": {},
   "outputs": [
    {
     "data": {
      "text/plain": [
       "1024    device for purple coupling of rotatable axle o...\n",
       "1025                                     heat pump system\n",
       "1026    condensation dryer comprise a heat pump and me...\n",
       "1027                     animal _NUMBER_ plead ingredient\n",
       "1028                      electrostatic dust precipitator\n",
       "                              ...                        \n",
       "2044                  crystalline anti htnfalpha antibody\n",
       "2045    method information processing apparatus and co...\n",
       "2046        pork rind bait and method of prepare the same\n",
       "2047    process for the treatment of titanium contain ...\n",
       "2048    air condition system of a motor vehicle and me...\n",
       "Name: title, Length: 1025, dtype: object"
      ]
     },
     "execution_count": 22,
     "metadata": {},
     "output_type": "execute_result"
    }
   ],
   "source": [
    "# iloc\n",
    "df.iloc[1024:2049,1]\n"
   ]
  },
  {
   "cell_type": "markdown",
   "metadata": {},
   "source": [
    "### Part 5: Check Dataframe for NaN values"
   ]
  },
  {
   "cell_type": "markdown",
   "metadata": {},
   "source": [
    "<div dir=\"rtl\">\n",
    "در این بخش بررسی می کنیم که ایا دیتاست دارای مقدار \n",
    "Nan\n",
    "است یا خیر.\n",
    "</div>"
   ]
  },
  {
   "cell_type": "code",
   "execution_count": 23,
   "metadata": {},
   "outputs": [
    {
     "name": "stdout",
     "output_type": "stream",
     "text": [
      "Is there any column with NaN values?\n",
      "publication_number    False\n",
      "title                 False\n",
      "cpc_code              False\n",
      "patent_embedding      False\n",
      "category              False\n",
      "dtype: bool\n",
      "So Does the entire data set Have NaN values? :  False\n"
     ]
    }
   ],
   "source": [
    "print(\"Is there any column with NaN values?\")\n",
    "print (df.isna().any() )\n",
    "print(\"So Does the entire data set Have NaN values? : \", df.isnull().values.any())\n"
   ]
  },
  {
   "cell_type": "markdown",
   "metadata": {},
   "source": [
    "<div dir=\"rtl\">\n",
    "همانطور که از نتیجه بالا معلوم است، دیتاست دارای داده های \n",
    "NaN\n",
    "نیست.\n",
    "</div>"
   ]
  },
  {
   "cell_type": "markdown",
   "metadata": {},
   "source": [
    "### Part 6: Check Dataframe for duplicates"
   ]
  },
  {
   "cell_type": "markdown",
   "metadata": {},
   "source": [
    "<div dir=\"rtl\">\n",
    "در این قسمت چک می کنیم ایا دیتاست دارای سطر های تکراری است یا خیر و اگر هست، آن ها را نمایش می دهیم.\n",
    "\n",
    "</div>"
   ]
  },
  {
   "cell_type": "code",
   "execution_count": 24,
   "metadata": {},
   "outputs": [
    {
     "name": "stdout",
     "output_type": "stream",
     "text": [
      "Duplicate Rows :\n"
     ]
    },
    {
     "data": {
      "text/html": [
       "<div>\n",
       "<style scoped>\n",
       "    .dataframe tbody tr th:only-of-type {\n",
       "        vertical-align: middle;\n",
       "    }\n",
       "\n",
       "    .dataframe tbody tr th {\n",
       "        vertical-align: top;\n",
       "    }\n",
       "\n",
       "    .dataframe thead th {\n",
       "        text-align: right;\n",
       "    }\n",
       "</style>\n",
       "<table border=\"1\" class=\"dataframe\">\n",
       "  <thead>\n",
       "    <tr style=\"text-align: right;\">\n",
       "      <th></th>\n",
       "      <th>publication_number</th>\n",
       "      <th>title</th>\n",
       "      <th>cpc_code</th>\n",
       "      <th>patent_embedding</th>\n",
       "      <th>category</th>\n",
       "    </tr>\n",
       "  </thead>\n",
       "  <tbody>\n",
       "    <tr>\n",
       "      <th>1739</th>\n",
       "      <td>AU-2011202417-A1</td>\n",
       "      <td>a wall form in soil the wall include a hollow ...</td>\n",
       "      <td>E02D5/18</td>\n",
       "      <td>[ 3.92072555e-03  3.35453786e-02 -2.88293511e-...</td>\n",
       "      <td>1</td>\n",
       "    </tr>\n",
       "    <tr>\n",
       "      <th>5696</th>\n",
       "      <td>EP-3096560-A4</td>\n",
       "      <td>method and user equipment for block network ac...</td>\n",
       "      <td>H04W48/06</td>\n",
       "      <td>[-3.0044878e-02 -4.4037402e-05 -2.3655588e-02 ...</td>\n",
       "      <td>6</td>\n",
       "    </tr>\n",
       "    <tr>\n",
       "      <th>6496</th>\n",
       "      <td>US-2018076003-A1</td>\n",
       "      <td>method and apparatus for a porous electrospray...</td>\n",
       "      <td>H01J37/08</td>\n",
       "      <td>[ 0.02056626  0.04025198 -0.04704187  0.061253...</td>\n",
       "      <td>1</td>\n",
       "    </tr>\n",
       "    <tr>\n",
       "      <th>6962</th>\n",
       "      <td>US-2018328001-A1</td>\n",
       "      <td>boom assembly for a trencher</td>\n",
       "      <td>E02F5/14</td>\n",
       "      <td>[ 1.52878952e-03  3.42151672e-02 -4.17193323e-...</td>\n",
       "      <td>1</td>\n",
       "    </tr>\n",
       "    <tr>\n",
       "      <th>9408</th>\n",
       "      <td>JP-5702147-B2</td>\n",
       "      <td>electroactive material</td>\n",
       "      <td>H01L51/0035</td>\n",
       "      <td>[ 0.01078738 -0.01581865 -0.01463019  0.023458...</td>\n",
       "      <td>2</td>\n",
       "    </tr>\n",
       "    <tr>\n",
       "      <th>9980</th>\n",
       "      <td>JP-6373410-B2</td>\n",
       "      <td>end of life determination and prediction for i...</td>\n",
       "      <td>A61N1/36128</td>\n",
       "      <td>[-3.00560612e-03  5.31513337e-03 -1.25307012e-...</td>\n",
       "      <td>6</td>\n",
       "    </tr>\n",
       "    <tr>\n",
       "      <th>11142</th>\n",
       "      <td>AU-2012324531-A1</td>\n",
       "      <td>biomarkers useful for detection of type grade ...</td>\n",
       "      <td>C12Q1/6886</td>\n",
       "      <td>[ 0.01898381  0.01144431 -0.04808485  0.079074...</td>\n",
       "      <td>1</td>\n",
       "    </tr>\n",
       "    <tr>\n",
       "      <th>13850</th>\n",
       "      <td>US-2018042871-A1</td>\n",
       "      <td>bicyclic analgesic compound</td>\n",
       "      <td>A61K31/16</td>\n",
       "      <td>[ 4.39326465e-02 -1.77983195e-02 -8.26886818e-...</td>\n",
       "      <td>2</td>\n",
       "    </tr>\n",
       "    <tr>\n",
       "      <th>14823</th>\n",
       "      <td>HK-1225899-A1</td>\n",
       "      <td>apparatus system and method of secure communic...</td>\n",
       "      <td>H04W12/04</td>\n",
       "      <td>[-0.00121724 -0.00263928  0.0009811   0.056798...</td>\n",
       "      <td>6</td>\n",
       "    </tr>\n",
       "  </tbody>\n",
       "</table>\n",
       "</div>"
      ],
      "text/plain": [
       "      publication_number                                              title  \\\n",
       "1739    AU-2011202417-A1  a wall form in soil the wall include a hollow ...   \n",
       "5696       EP-3096560-A4  method and user equipment for block network ac...   \n",
       "6496    US-2018076003-A1  method and apparatus for a porous electrospray...   \n",
       "6962    US-2018328001-A1                       boom assembly for a trencher   \n",
       "9408       JP-5702147-B2                             electroactive material   \n",
       "9980       JP-6373410-B2  end of life determination and prediction for i...   \n",
       "11142   AU-2012324531-A1  biomarkers useful for detection of type grade ...   \n",
       "13850   US-2018042871-A1                        bicyclic analgesic compound   \n",
       "14823      HK-1225899-A1  apparatus system and method of secure communic...   \n",
       "\n",
       "          cpc_code                                   patent_embedding  \\\n",
       "1739      E02D5/18  [ 3.92072555e-03  3.35453786e-02 -2.88293511e-...   \n",
       "5696     H04W48/06  [-3.0044878e-02 -4.4037402e-05 -2.3655588e-02 ...   \n",
       "6496     H01J37/08  [ 0.02056626  0.04025198 -0.04704187  0.061253...   \n",
       "6962      E02F5/14  [ 1.52878952e-03  3.42151672e-02 -4.17193323e-...   \n",
       "9408   H01L51/0035  [ 0.01078738 -0.01581865 -0.01463019  0.023458...   \n",
       "9980   A61N1/36128  [-3.00560612e-03  5.31513337e-03 -1.25307012e-...   \n",
       "11142   C12Q1/6886  [ 0.01898381  0.01144431 -0.04808485  0.079074...   \n",
       "13850    A61K31/16  [ 4.39326465e-02 -1.77983195e-02 -8.26886818e-...   \n",
       "14823    H04W12/04  [-0.00121724 -0.00263928  0.0009811   0.056798...   \n",
       "\n",
       "       category  \n",
       "1739          1  \n",
       "5696          6  \n",
       "6496          1  \n",
       "6962          1  \n",
       "9408          2  \n",
       "9980          6  \n",
       "11142         1  \n",
       "13850         2  \n",
       "14823         6  "
      ]
     },
     "execution_count": 24,
     "metadata": {},
     "output_type": "execute_result"
    }
   ],
   "source": [
    "duplicate = df[df.duplicated()]\n",
    " \n",
    "print(\"Duplicate Rows :\")\n",
    " \n",
    "# Print the resultant Dataframe\n",
    "duplicate"
   ]
  },
  {
   "cell_type": "markdown",
   "metadata": {},
   "source": [
    "### Part 7: Use `Lambda` Function for calculating word counts"
   ]
  },
  {
   "cell_type": "markdown",
   "metadata": {},
   "source": [
    "<div dir=\"rtl\">\n",
    "در این قسمت نیز با استفاده از یک تابع \n",
    "Lambda\n",
    "تعداد کلمات موجود در ویژگی \n",
    "title\n",
    "را برای هر سطر محاسبه کرده و در متغیر\n",
    "title_length\n",
    "ذخیره می کنیم.\n",
    "</div>"
   ]
  },
  {
   "cell_type": "code",
   "execution_count": 25,
   "metadata": {},
   "outputs": [
    {
     "data": {
      "text/html": [
       "<div>\n",
       "<style scoped>\n",
       "    .dataframe tbody tr th:only-of-type {\n",
       "        vertical-align: middle;\n",
       "    }\n",
       "\n",
       "    .dataframe tbody tr th {\n",
       "        vertical-align: top;\n",
       "    }\n",
       "\n",
       "    .dataframe thead th {\n",
       "        text-align: right;\n",
       "    }\n",
       "</style>\n",
       "<table border=\"1\" class=\"dataframe\">\n",
       "  <thead>\n",
       "    <tr style=\"text-align: right;\">\n",
       "      <th></th>\n",
       "      <th>publication_number</th>\n",
       "      <th>title</th>\n",
       "      <th>cpc_code</th>\n",
       "      <th>patent_embedding</th>\n",
       "      <th>category</th>\n",
       "      <th>title_length</th>\n",
       "    </tr>\n",
       "  </thead>\n",
       "  <tbody>\n",
       "    <tr>\n",
       "      <th>0</th>\n",
       "      <td>US-2019250858-A1</td>\n",
       "      <td>memory controller and operating method thereof</td>\n",
       "      <td>G06F3/061</td>\n",
       "      <td>[ 0.00135472  0.01564001 -0.04858465  0.039866...</td>\n",
       "      <td>1</td>\n",
       "      <td>6</td>\n",
       "    </tr>\n",
       "    <tr>\n",
       "      <th>1</th>\n",
       "      <td>US-1000462-A</td>\n",
       "      <td>corn planter</td>\n",
       "      <td>A01C9/00</td>\n",
       "      <td>[-4.44490612e-02  2.48770583e-02 -5.62837869e-...</td>\n",
       "      <td>6</td>\n",
       "      <td>2</td>\n",
       "    </tr>\n",
       "    <tr>\n",
       "      <th>2</th>\n",
       "      <td>KR-200146416-Y1</td>\n",
       "      <td>antitheft vehicle security system</td>\n",
       "      <td>B60R25/209</td>\n",
       "      <td>[-2.53110677e-02 -2.04547048e-02  8.63679312e-...</td>\n",
       "      <td>0</td>\n",
       "      <td>4</td>\n",
       "    </tr>\n",
       "    <tr>\n",
       "      <th>3</th>\n",
       "      <td>KR-0160422-B1</td>\n",
       "      <td>a door opening and shutting apparatus and meth...</td>\n",
       "      <td>D06F37/42</td>\n",
       "      <td>[ 1.21761542e-02  1.97522007e-02 -6.62921891e-...</td>\n",
       "      <td>1</td>\n",
       "      <td>12</td>\n",
       "    </tr>\n",
       "    <tr>\n",
       "      <th>4</th>\n",
       "      <td>US-952306-A</td>\n",
       "      <td>spray burner</td>\n",
       "      <td>B05B1/3033</td>\n",
       "      <td>[-0.00214472  0.01606156 -0.09518531  0.060160...</td>\n",
       "      <td>0</td>\n",
       "      <td>2</td>\n",
       "    </tr>\n",
       "    <tr>\n",
       "      <th>...</th>\n",
       "      <td>...</td>\n",
       "      <td>...</td>\n",
       "      <td>...</td>\n",
       "      <td>...</td>\n",
       "      <td>...</td>\n",
       "      <td>...</td>\n",
       "    </tr>\n",
       "    <tr>\n",
       "      <th>15684</th>\n",
       "      <td>AT-415717-T</td>\n",
       "      <td>method and device for produce a low pressure w...</td>\n",
       "      <td>H01M8/04104</td>\n",
       "      <td>[ 1.77878514e-02  3.53233777e-02 -3.37363742e-...</td>\n",
       "      <td>1</td>\n",
       "      <td>17</td>\n",
       "    </tr>\n",
       "    <tr>\n",
       "      <th>15685</th>\n",
       "      <td>AT-424202-T</td>\n",
       "      <td>substitute _NUMBER_ thio _NUMBER_ _NUMBER_ dic...</td>\n",
       "      <td>C07D417/12</td>\n",
       "      <td>[-0.03664465 -0.01075565 -0.02483719 -0.033502...</td>\n",
       "      <td>5</td>\n",
       "      <td>13</td>\n",
       "    </tr>\n",
       "    <tr>\n",
       "      <th>15686</th>\n",
       "      <td>CA-2952951-A1</td>\n",
       "      <td>end tip for a vehicle wiper blade</td>\n",
       "      <td>B60S1/3894</td>\n",
       "      <td>[-4.39246558e-02  2.96350904e-02 -2.31920835e-...</td>\n",
       "      <td>0</td>\n",
       "      <td>7</td>\n",
       "    </tr>\n",
       "    <tr>\n",
       "      <th>15687</th>\n",
       "      <td>CH-608317-A</td>\n",
       "      <td>process for the compressive shrinkage of a web...</td>\n",
       "      <td>D06C21/00</td>\n",
       "      <td>[-3.34328553e-03  1.02757774e-02 -2.01825500e-...</td>\n",
       "      <td>6</td>\n",
       "      <td>12</td>\n",
       "    </tr>\n",
       "    <tr>\n",
       "      <th>15688</th>\n",
       "      <td>CN-100513251-C</td>\n",
       "      <td>system and process for open cover vessel hull</td>\n",
       "      <td>B63B71/00</td>\n",
       "      <td>[-1.98921170e-02  3.07969116e-02 -2.46879123e-...</td>\n",
       "      <td>6</td>\n",
       "      <td>8</td>\n",
       "    </tr>\n",
       "  </tbody>\n",
       "</table>\n",
       "<p>15689 rows × 6 columns</p>\n",
       "</div>"
      ],
      "text/plain": [
       "      publication_number                                              title  \\\n",
       "0       US-2019250858-A1     memory controller and operating method thereof   \n",
       "1           US-1000462-A                                       corn planter   \n",
       "2        KR-200146416-Y1                  antitheft vehicle security system   \n",
       "3          KR-0160422-B1  a door opening and shutting apparatus and meth...   \n",
       "4            US-952306-A                                       spray burner   \n",
       "...                  ...                                                ...   \n",
       "15684        AT-415717-T  method and device for produce a low pressure w...   \n",
       "15685        AT-424202-T  substitute _NUMBER_ thio _NUMBER_ _NUMBER_ dic...   \n",
       "15686      CA-2952951-A1                  end tip for a vehicle wiper blade   \n",
       "15687        CH-608317-A  process for the compressive shrinkage of a web...   \n",
       "15688     CN-100513251-C      system and process for open cover vessel hull   \n",
       "\n",
       "          cpc_code                                   patent_embedding  \\\n",
       "0        G06F3/061  [ 0.00135472  0.01564001 -0.04858465  0.039866...   \n",
       "1         A01C9/00  [-4.44490612e-02  2.48770583e-02 -5.62837869e-...   \n",
       "2       B60R25/209  [-2.53110677e-02 -2.04547048e-02  8.63679312e-...   \n",
       "3        D06F37/42  [ 1.21761542e-02  1.97522007e-02 -6.62921891e-...   \n",
       "4       B05B1/3033  [-0.00214472  0.01606156 -0.09518531  0.060160...   \n",
       "...            ...                                                ...   \n",
       "15684  H01M8/04104  [ 1.77878514e-02  3.53233777e-02 -3.37363742e-...   \n",
       "15685   C07D417/12  [-0.03664465 -0.01075565 -0.02483719 -0.033502...   \n",
       "15686   B60S1/3894  [-4.39246558e-02  2.96350904e-02 -2.31920835e-...   \n",
       "15687    D06C21/00  [-3.34328553e-03  1.02757774e-02 -2.01825500e-...   \n",
       "15688    B63B71/00  [-1.98921170e-02  3.07969116e-02 -2.46879123e-...   \n",
       "\n",
       "       category  title_length  \n",
       "0             1             6  \n",
       "1             6             2  \n",
       "2             0             4  \n",
       "3             1            12  \n",
       "4             0             2  \n",
       "...         ...           ...  \n",
       "15684         1            17  \n",
       "15685         5            13  \n",
       "15686         0             7  \n",
       "15687         6            12  \n",
       "15688         6             8  \n",
       "\n",
       "[15689 rows x 6 columns]"
      ]
     },
     "execution_count": 25,
     "metadata": {},
     "output_type": "execute_result"
    }
   ],
   "source": [
    "df['title_length'] = df.title.apply(lambda x: len(x.split()))\n",
    "df"
   ]
  },
  {
   "cell_type": "markdown",
   "metadata": {},
   "source": [
    "### Part 8: Plot Histogram of Word counts"
   ]
  },
  {
   "cell_type": "markdown",
   "metadata": {},
   "source": [
    "<div dir=\"rtl\">\n",
    "هیستوگرام ویژگی ایجاد شده را نمایش می دهیم.\n",
    "</div>"
   ]
  },
  {
   "cell_type": "code",
   "execution_count": 26,
   "metadata": {},
   "outputs": [
    {
     "data": {
      "text/plain": [
       "array([[<AxesSubplot:title={'center':'title_length'}>]], dtype=object)"
      ]
     },
     "execution_count": 26,
     "metadata": {},
     "output_type": "execute_result"
    },
    {
     "data": {
      "image/png": "[encoded data removed]",
      "text/plain": [
       "<Figure size 432x288 with 1 Axes>"
      ]
     },
     "metadata": {
      "needs_background": "light"
     },
     "output_type": "display_data"
    }
   ],
   "source": [
    "df.hist(column='title_length') "
   ]
  },
  {
   "cell_type": "markdown",
   "metadata": {},
   "source": [
    "## Log"
   ]
  },
  {
   "cell_type": "markdown",
   "metadata": {},
   "source": [
    "### Part 1: Number of Total Commits"
   ]
  },
  {
   "cell_type": "markdown",
   "metadata": {},
   "source": [
    "<div dir=\"rtl\">\n",
    "در قسمت اول یک تابع برای تبدیل فایل لاگ به دیتافریم می نویسیم که اطلاعات مهم لاگ را در آن ذخیره کنیم.\n",
    "همانطور که میبینیم این تابع فایل لاگ را به عنوان ورودی گرفته و دیتافریم را خروجی می دهد.\n",
    "سپس تعداد کل کامیت ها و ۵ سطر اول این دیتافریم را نمایش می دهیم.\n",
    "</div>"
   ]
  },
  {
   "cell_type": "code",
   "execution_count": 27,
   "metadata": {},
   "outputs": [],
   "source": [
    "import pandas as pd\n",
    "filename = './data/git_log.log'\n",
    "# reading"
   ]
  },
  {
   "cell_type": "code",
   "execution_count": 28,
   "metadata": {},
   "outputs": [
    {
     "name": "stdout",
     "output_type": "stream",
     "text": [
      "number of total commits : 536\n"
     ]
    },
    {
     "data": {
      "text/html": [
       "<div>\n",
       "<style scoped>\n",
       "    .dataframe tbody tr th:only-of-type {\n",
       "        vertical-align: middle;\n",
       "    }\n",
       "\n",
       "    .dataframe tbody tr th {\n",
       "        vertical-align: top;\n",
       "    }\n",
       "\n",
       "    .dataframe thead th {\n",
       "        text-align: right;\n",
       "    }\n",
       "</style>\n",
       "<table border=\"1\" class=\"dataframe\">\n",
       "  <thead>\n",
       "    <tr style=\"text-align: right;\">\n",
       "      <th></th>\n",
       "      <th>commit</th>\n",
       "      <th>Auther</th>\n",
       "      <th>Email</th>\n",
       "      <th>Date</th>\n",
       "    </tr>\n",
       "  </thead>\n",
       "  <tbody>\n",
       "    <tr>\n",
       "      <th>0</th>\n",
       "      <td>4d3d9de655faa813781027d8b1baed819c6a56fe</td>\n",
       "      <td>Markus Harrer</td>\n",
       "      <td>feststelltaste@googlemail.com</td>\n",
       "      <td>Tue Mar 5 22:32:20 2019 +0100</td>\n",
       "    </tr>\n",
       "    <tr>\n",
       "      <th>1</th>\n",
       "      <td>b836a492b2d5916397be9880f548121a9b398db1</td>\n",
       "      <td>Markus Harrer</td>\n",
       "      <td>feststelltaste@googlemail.com</td>\n",
       "      <td>Tue Mar 5 13:38:07 2019 +0100</td>\n",
       "    </tr>\n",
       "    <tr>\n",
       "      <th>2</th>\n",
       "      <td>3a16dd99f4e7758a38b17e911eb78ba1dc7d871f</td>\n",
       "      <td>Markus Harrer</td>\n",
       "      <td>feststelltaste@googlemail.com</td>\n",
       "      <td>Tue Mar 5 13:35:38 2019 +0100</td>\n",
       "    </tr>\n",
       "    <tr>\n",
       "      <th>3</th>\n",
       "      <td>7575b4731833a782f3de5d4686e9a0e3e2349ca6</td>\n",
       "      <td>Markus Harrer</td>\n",
       "      <td>feststelltaste@googlemail.com</td>\n",
       "      <td>Tue Mar 5 13:34:35 2019 +0100</td>\n",
       "    </tr>\n",
       "    <tr>\n",
       "      <th>4</th>\n",
       "      <td>208f665e17f3d8650b82f1169bbb5fab7e67807b</td>\n",
       "      <td>Markus Harrer</td>\n",
       "      <td>feststelltaste@googlemail.com</td>\n",
       "      <td>Thu Nov 15 18:39:27 2018 +0100</td>\n",
       "    </tr>\n",
       "  </tbody>\n",
       "</table>\n",
       "</div>"
      ],
      "text/plain": [
       "                                     commit         Auther  \\\n",
       "0  4d3d9de655faa813781027d8b1baed819c6a56fe  Markus Harrer   \n",
       "1  b836a492b2d5916397be9880f548121a9b398db1  Markus Harrer   \n",
       "2  3a16dd99f4e7758a38b17e911eb78ba1dc7d871f  Markus Harrer   \n",
       "3  7575b4731833a782f3de5d4686e9a0e3e2349ca6  Markus Harrer   \n",
       "4  208f665e17f3d8650b82f1169bbb5fab7e67807b  Markus Harrer   \n",
       "\n",
       "                           Email                              Date  \n",
       "0  feststelltaste@googlemail.com     Tue Mar 5 22:32:20 2019 +0100  \n",
       "1  feststelltaste@googlemail.com     Tue Mar 5 13:38:07 2019 +0100  \n",
       "2  feststelltaste@googlemail.com     Tue Mar 5 13:35:38 2019 +0100  \n",
       "3  feststelltaste@googlemail.com     Tue Mar 5 13:34:35 2019 +0100  \n",
       "4  feststelltaste@googlemail.com    Thu Nov 15 18:39:27 2018 +0100  "
      ]
     },
     "execution_count": 28,
     "metadata": {},
     "output_type": "execute_result"
    }
   ],
   "source": [
    "def log_to_dataframe(location):\n",
    "    with open(location, mode='r', encoding='UTF-8') as f:\n",
    "        commit_list = []\n",
    "        Author_list = []\n",
    "        email_list = []\n",
    "        Date_list = []\n",
    "        for line in f:\n",
    "            if line.startswith('commit'):\n",
    "                commit = line.split(\" \")[1].rstrip()\n",
    "                commit_list.append(commit)\n",
    "            elif \"Author:\" in line:\n",
    "                Author = line.split(\": \")[1].rstrip()\n",
    "                email = Author.split(\" <\")[1][:-1]\n",
    "                Author = Author.split(\" <\")[0]\n",
    "                Author_list.append(Author)\n",
    "                email_list.append(email)\n",
    "            elif \"Date:\" in line:\n",
    "                date = line.split(\": \")[1].rstrip()\n",
    "                Date_list.append(date)\n",
    "            else:\n",
    "                pass\n",
    "    main_df = pd.DataFrame({\"commit\": commit_list, \"Auther\": Author_list, \"Email\": email_list, \"Date\": Date_list})\n",
    "    return main_df\n",
    "\n",
    "\n",
    "log_df = log_to_dataframe('./data/git_log.log')\n",
    "\n",
    "print(\"number of total commits :\" ,log_df.shape[0])\n",
    "log_df.head()"
   ]
  },
  {
   "cell_type": "markdown",
   "metadata": {},
   "source": [
    "### Part 2: Extract Developer name, Email, Commit Count and last commit date and create a Dataframe"
   ]
  },
  {
   "cell_type": "markdown",
   "metadata": {},
   "source": [
    "<div dir=\"rtl\">\n",
    "در این قسمت برای هر دولوپر تعداد کامیت ها و ایمیل و تاریخ اخرین کامیت را باید نمایش دهیم.\n",
    "برای این کار ابتدا ستون \n",
    "Date\n",
    "را به فرمت تاریخ در می اوریم تا بتوانیم سطر ها را بر اساس تاریخ کامیت ها مرتب کنیم.\n",
    "سپس دیتاست را بر اساس تعداد نویسنده ها گروه بندی می کنیم.\n",
    "سپس یک تابع نوشته و به ازای هر نویسنده، تعداد\n",
    "commits\n",
    " و ایمل و تاریخ اخرین کامیت را نمایش می دهیم.\n",
    "</div>"
   ]
  },
  {
   "cell_type": "code",
   "execution_count": 30,
   "metadata": {},
   "outputs": [
    {
     "name": "stdout",
     "output_type": "stream",
     "text": [
      "Ameya Pandilwar\n",
      "Number of commits :  2\n",
      "Email          ameya@pandilwar.com\n",
      "Date     2016-06-19 02:23:53-04:00\n",
      "Name: 0, dtype: object\n",
      "\n",
      "\n",
      "\n",
      "AndrejGajdos\n",
      "Number of commits :  1\n",
      "Email                      Andrej1\n",
      "Date     2016-07-28 13:50:07+02:00\n",
      "Name: 0, dtype: object\n",
      "\n",
      "\n",
      "\n",
      "Antoine Rey\n",
      "Number of commits :  64\n",
      "Email        antoine.rey@gmail.com\n",
      "Date     2016-08-19 18:54:56+02:00\n",
      "Name: 0, dtype: object\n",
      "\n",
      "\n",
      "\n",
      "Attilio\n",
      "Number of commits :  1\n",
      "Email             attilio@attil.io\n",
      "Date     2016-06-15 22:46:47+02:00\n",
      "Name: 0, dtype: object\n",
      "\n",
      "\n",
      "\n",
      "Bram Luyten\n",
      "Number of commits :  1\n",
      "Email                 bram@mire.be\n",
      "Date     2014-05-11 18:37:42+02:00\n",
      "Name: 0, dtype: object\n",
      "\n",
      "\n",
      "\n",
      "Chris Beams\n",
      "Number of commits :  1\n",
      "Email            cbeams@vmware.com\n",
      "Date     2010-09-02 07:51:24+00:00\n",
      "Name: 0, dtype: object\n",
      "\n",
      "\n",
      "\n",
      "Colin But\n",
      "Number of commits :  1\n",
      "Email    colinbut@users.noreply.github.com\n",
      "Date             2015-11-20 13:56:44+00:00\n",
      "Name: 0, dtype: object\n",
      "\n",
      "\n",
      "\n",
      "Costin Leau\n",
      "Number of commits :  28\n",
      "Email             cleau@vmware.com\n",
      "Date     2010-07-19 14:20:39+00:00\n",
      "Name: 0, dtype: object\n",
      "\n",
      "\n",
      "\n",
      "Craig Dennis\n",
      "Number of commits :  1\n",
      "Email       craigsdennis@gmail.com\n",
      "Date     2014-07-07 21:19:40-07:00\n",
      "Name: 0, dtype: object\n",
      "\n",
      "\n",
      "\n",
      "Cyrille Le Clerc\n",
      "Number of commits :  5\n",
      "Email    cyrille@cyrilleleclerc.com\n",
      "Date      2013-08-10 19:49:01+02:00\n",
      "Name: 0, dtype: object\n",
      "\n",
      "\n",
      "\n",
      "Dapeng\n",
      "Number of commits :  1\n",
      "Email         verydapeng@gmail.com\n",
      "Date     2016-06-27 17:06:47+08:00\n",
      "Name: 0, dtype: object\n",
      "\n",
      "\n",
      "\n",
      "Dirk Mahler\n",
      "Number of commits :  59\n",
      "Email    dirk.mahler@buschmais.com\n",
      "Date     2017-10-24 16:48:23+02:00\n",
      "Name: 0, dtype: object\n",
      "\n",
      "\n",
      "\n",
      "Faisal Hameed\n",
      "Number of commits :  1\n",
      "Email    faisal.hameed@devfactory.com\n",
      "Date        2016-04-23 23:31:51+05:00\n",
      "Name: 0, dtype: object\n",
      "\n",
      "\n",
      "\n",
      "Gordon Dickens\n",
      "Number of commits :  5\n",
      "Email     gordon@gordondickens.com\n",
      "Date     2013-02-19 11:10:37-05:00\n",
      "Name: 0, dtype: object\n",
      "\n",
      "\n",
      "\n",
      "IHABRITANE\n",
      "Number of commits :  1\n",
      "Email    faycal.ihabritane@atos.net\n",
      "Date      2016-01-25 17:21:19+00:00\n",
      "Name: 0, dtype: object\n",
      "\n",
      "\n",
      "\n",
      "JavaOnAutobahn\n",
      "Number of commits :  5\n",
      "Email    JavaOnAutobahn@users.noreply.github.com\n",
      "Date                   2018-02-09 13:58:15+01:00\n",
      "Name: 0, dtype: object\n",
      "\n",
      "\n",
      "\n",
      "Joe Freeman\n",
      "Number of commits :  3\n",
      "Email    joe+github@freemansoft.com\n",
      "Date      2015-09-30 21:20:34-04:00\n",
      "Name: 0, dtype: object\n",
      "\n",
      "\n",
      "\n",
      "Julien Dubois\n",
      "Number of commits :  2\n",
      "Email             jdubois@ippon.fr\n",
      "Date     2013-02-25 22:40:24+01:00\n",
      "Name: 0, dtype: object\n",
      "\n",
      "\n",
      "\n",
      "Keith Donald\n",
      "Number of commits :  35\n",
      "Email           kdonald@vmware.com\n",
      "Date     2010-02-18 22:11:04+00:00\n",
      "Name: 0, dtype: object\n",
      "\n",
      "\n",
      "\n",
      "Markus\n",
      "Number of commits :  4\n",
      "Email    feststelltaste@users.noreply.github.com\n",
      "Date                   2018-03-05 22:25:12+01:00\n",
      "Name: 0, dtype: object\n",
      "\n",
      "\n",
      "\n",
      "Markus Harrer\n",
      "Number of commits :  27\n",
      "Email    feststelltaste@googlemail.com\n",
      "Date         2019-03-05 22:32:20+01:00\n",
      "Name: 0, dtype: object\n",
      "\n",
      "\n",
      "\n",
      "Mic\n",
      "Number of commits :  205\n",
      "Email             misvy@vmware.com\n",
      "Date     2014-08-26 10:51:01+08:00\n",
      "Name: 0, dtype: object\n",
      "\n",
      "\n",
      "\n",
      "Mike Eltsufin\n",
      "Number of commits :  1\n",
      "Email         meltsufin@google.com\n",
      "Date     2016-07-22 11:31:12-04:00\n",
      "Name: 0, dtype: object\n",
      "\n",
      "\n",
      "\n",
      "Oliver B. Fischer\n",
      "Number of commits :  2\n",
      "Email     o.b.fischer@swe-blog.net\n",
      "Date     2016-09-15 23:27:55+02:00\n",
      "Name: 0, dtype: object\n",
      "\n",
      "\n",
      "\n",
      "Rossen Stoyanchev\n",
      "Number of commits :  2\n",
      "Email       rstoyanchev@vmware.com\n",
      "Date     2013-02-10 18:16:18-05:00\n",
      "Name: 0, dtype: object\n",
      "\n",
      "\n",
      "\n",
      "TejasM\n",
      "Number of commits :  1\n",
      "Email        tejasmehta0@gmail.com\n",
      "Date     2013-05-27 14:28:24-04:00\n",
      "Name: 0, dtype: object\n",
      "\n",
      "\n",
      "\n",
      "Thibault Duchateau\n",
      "Number of commits :  5\n",
      "Email    thibault.duchateau@gmail.com\n",
      "Date        2014-06-01 12:50:08+02:00\n",
      "Name: 0, dtype: object\n",
      "\n",
      "\n",
      "\n",
      "Thomas Risberg\n",
      "Number of commits :  1\n",
      "Email          trisberg@vmware.com\n",
      "Date     2009-12-14 22:13:04+00:00\n",
      "Name: 0, dtype: object\n",
      "\n",
      "\n",
      "\n",
      "Tomas Repel\n",
      "Number of commits :  5\n",
      "Email            trepel@redhat.com\n",
      "Date     2016-04-05 09:01:37+02:00\n",
      "Name: 0, dtype: object\n",
      "\n",
      "\n",
      "\n",
      "Vlad Selpukhin\n",
      "Number of commits :  1\n",
      "Email            slp.vld@gmail.com\n",
      "Date     2015-04-23 15:43:48+03:00\n",
      "Name: 0, dtype: object\n",
      "\n",
      "\n",
      "\n",
      "XIAO XI LIU\n",
      "Number of commits :  1\n",
      "Email             liuxx@cn.ibm.com\n",
      "Date     2016-04-05 07:04:33+08:00\n",
      "Name: 0, dtype: object\n",
      "\n",
      "\n",
      "\n",
      "boly38\n",
      "Number of commits :  1\n",
      "Email             boly38@gmail.com\n",
      "Date     2013-07-12 10:22:38+02:00\n",
      "Name: 0, dtype: object\n",
      "\n",
      "\n",
      "\n",
      "dmahler\n",
      "Number of commits :  2\n",
      "Email    dirk.mahler@globalfoundries.com\n",
      "Date           2017-02-27 17:48:02+01:00\n",
      "Name: 0, dtype: object\n",
      "\n",
      "\n",
      "\n",
      "feststelltaste\n",
      "Number of commits :  2\n",
      "Email    feststelltaste@googlemail.com\n",
      "Date         2017-02-22 23:00:42+01:00\n",
      "Name: 0, dtype: object\n",
      "\n",
      "\n",
      "\n",
      "kadinyazilimci\n",
      "Number of commits :  1\n",
      "Email      armagan.ersoz@gmail.com\n",
      "Date     2016-02-25 09:36:20+10:00\n",
      "Name: 0, dtype: object\n",
      "\n",
      "\n",
      "\n",
      "lukasz-szewc\n",
      "Number of commits :  1\n",
      "Email    lukasz-szewc@users.noreply.github.com\n",
      "Date                 2016-03-05 18:50:45+01:00\n",
      "Name: 0, dtype: object\n",
      "\n",
      "\n",
      "\n",
      "michaelisvy\n",
      "Number of commits :  53\n",
      "Email          misvy@gopivotal,com\n",
      "Date     2016-02-06 15:02:14+08:00\n",
      "Name: 0, dtype: object\n",
      "\n",
      "\n",
      "\n",
      "mklose\n",
      "Number of commits :  1\n",
      "Email    martin.klose@klosebrothers.de\n",
      "Date         2015-04-01 16:39:51+02:00\n",
      "Name: 0, dtype: object\n",
      "\n",
      "\n",
      "\n",
      "patrickcrocker\n",
      "Number of commits :  1\n",
      "Email    patrick.crocker@gmail.com\n",
      "Date     2016-02-19 14:49:30-06:00\n",
      "Name: 0, dtype: object\n",
      "\n",
      "\n",
      "\n",
      "srenkens\n",
      "Number of commits :  1\n",
      "Email           srenkens@gmail.com\n",
      "Date     2015-06-05 12:37:46+02:00\n",
      "Name: 0, dtype: object\n",
      "\n",
      "\n",
      "\n",
      "thinksh\n",
      "Number of commits :  1\n",
      "Email       thinkshihang@gmail.com\n",
      "Date     2016-02-03 23:19:46-05:00\n",
      "Name: 0, dtype: object\n",
      "\n",
      "\n",
      "\n"
     ]
    }
   ],
   "source": [
    "log_df2 = log_df.copy()\n",
    "log_df2['Date'] =pd.to_datetime(log_df2.Date)\n",
    "ds = log_df2.groupby('Auther').size()\n",
    "#print (ds.index.tolist())\n",
    "# Find out who has max and min ccommits\n",
    "Max_Num_of_commits = 0\n",
    "Min_Num_of_commits = 1\n",
    "Auther_with_max_commits = []\n",
    "Auther_with_min_commits = []\n",
    "\n",
    "for Auther in ds.index.tolist():\n",
    "    print(Auther)\n",
    "    print(\"Number of commits : \",ds[Auther])\n",
    "    tmp = log_df2.loc[log_df2['Auther'] == Auther]\n",
    "    #print(tmp.sort_values('Date',ascending=False).reset_index(    ) )\n",
    "    print(tmp.sort_values('Date',ascending=False).reset_index(    ).loc[0,['Email','Date']] )\n",
    "    print(\"\\n\\n\")\n",
    "\n",
    "    if (ds[Auther] > Max_Num_of_commits):\n",
    "        Auther_with_max_commits.append( Auther )\n",
    "        Max_Num_of_commits = ds[Auther]\n",
    "    elif((ds[Auther] == Max_Num_of_commits)):\n",
    "        Auther_with_max_commits.append( Auther )\n",
    "\n",
    "    if (ds[Auther] < Min_Num_of_commits):\n",
    "        Auther_with_min_commits.append( Auther )\n",
    "        Min_Num_of_commits = ds[Auther]\n",
    "    elif((ds[Auther] == Min_Num_of_commits)):\n",
    "        Auther_with_min_commits.append( Auther )\n",
    "\n",
    "\n"
   ]
  },
  {
   "cell_type": "markdown",
   "metadata": {},
   "source": [
    "### Part 3: Developers with Maximum and Minimum Commit count"
   ]
  },
  {
   "cell_type": "markdown",
   "metadata": {},
   "source": [
    "<div dir=\"rtl\">\n",
    "هیستوگرام ویژگی ایجاد شده را نمایش می دهیم.\n",
    "</div>"
   ]
  },
  {
   "cell_type": "code",
   "execution_count": 31,
   "metadata": {},
   "outputs": [
    {
     "name": "stdout",
     "output_type": "stream",
     "text": [
      "Authers with maximum Commits are : \n",
      " ['Ameya Pandilwar', 'Antoine Rey', 'Mic']\n",
      "\n",
      "Authers with minimum Commits are : \n",
      " ['AndrejGajdos', 'Attilio', 'Bram Luyten', 'Chris Beams', 'Colin But', 'Craig Dennis', 'Dapeng', 'Faisal Hameed', 'IHABRITANE', 'Mike Eltsufin', 'TejasM', 'Thomas Risberg', 'Vlad Selpukhin', 'XIAO XI LIU', 'boly38', 'kadinyazilimci', 'lukasz-szewc', 'mklose', 'patrickcrocker', 'srenkens', 'thinksh']\n"
     ]
    }
   ],
   "source": [
    "print (\"Authers with maximum Commits are : \\n\" , Auther_with_max_commits )\n",
    "\n",
    "print ( \"\\nAuthers with minimum Commits are : \\n\" , Auther_with_min_commits )\n",
    " "
   ]
  },
  {
   "cell_type": "markdown",
   "metadata": {},
   "source": [
    "## Json"
   ]
  },
  {
   "cell_type": "markdown",
   "metadata": {},
   "source": [
    "### Part 1: Create Dataframe from Json files"
   ]
  },
  {
   "cell_type": "markdown",
   "metadata": {},
   "source": [
    "در این قسمت ابتدا تمام فایل های موجود در پوشه های داده شده را در یک آرایه ذخیره می کنیم. سپس با پارس کردن هر کدام از فایل های جیسون، یک دیتافریم می سازیم.\n",
    "در ادامه ستون زما را از حالت متن به فرمت زمانی در آوردیم.\n",
    "و در انتهای این بخش از کل داده ها ستون های داده شده را استخراج کردیم."
   ]
  },
  {
   "cell_type": "code",
   "execution_count": 32,
   "metadata": {},
   "outputs": [
    {
     "data": {
      "text/html": [
       "<div>\n",
       "<style scoped>\n",
       "    .dataframe tbody tr th:only-of-type {\n",
       "        vertical-align: middle;\n",
       "    }\n",
       "\n",
       "    .dataframe tbody tr th {\n",
       "        vertical-align: top;\n",
       "    }\n",
       "\n",
       "    .dataframe thead th {\n",
       "        text-align: right;\n",
       "    }\n",
       "</style>\n",
       "<table border=\"1\" class=\"dataframe\">\n",
       "  <thead>\n",
       "    <tr style=\"text-align: right;\">\n",
       "      <th></th>\n",
       "      <th>Title</th>\n",
       "      <th>Lang</th>\n",
       "      <th>Record_date</th>\n",
       "      <th>url</th>\n",
       "      <th>Description</th>\n",
       "      <th>Category</th>\n",
       "      <th>Tags</th>\n",
       "      <th>Speakers</th>\n",
       "      <th>Duration</th>\n",
       "    </tr>\n",
       "  </thead>\n",
       "  <tbody>\n",
       "    <tr>\n",
       "      <th>0</th>\n",
       "      <td>Load Testing a Django Application using LocustIO</td>\n",
       "      <td>eng</td>\n",
       "      <td>2021-06-04</td>\n",
       "      <td>https://www.youtube.com/watch?v=2rvsOQrbLuc</td>\n",
       "      <td>Fed up of using existing tools for determining...</td>\n",
       "      <td>NaN</td>\n",
       "      <td>[Django, DjangoConEU, djangoconeu2021]</td>\n",
       "      <td>[Pranjal Jain, Vibhash Chandra]</td>\n",
       "      <td>1993</td>\n",
       "    </tr>\n",
       "    <tr>\n",
       "      <th>1</th>\n",
       "      <td>Python-based data science to understand knowle...</td>\n",
       "      <td>eng</td>\n",
       "      <td>2016-03-10</td>\n",
       "      <td>http://youtu.be/pVd2v7fgxwU</td>\n",
       "      <td>All kinds of businesses are using data science...</td>\n",
       "      <td>NaN</td>\n",
       "      <td>NaN</td>\n",
       "      <td>[Daniel E. Acuna]</td>\n",
       "      <td>2700</td>\n",
       "    </tr>\n",
       "    <tr>\n",
       "      <th>2</th>\n",
       "      <td>Reverse-engineering Ian Bicking's brain: insid...</td>\n",
       "      <td>eng</td>\n",
       "      <td>2011-02-10</td>\n",
       "      <td>https://archive.org/details/pyvideo_568___reve...</td>\n",
       "      <td>-  1 http://us.pycon.org/2011/schedule/session...</td>\n",
       "      <td>ChiPy</td>\n",
       "      <td>[chipy, ianbicking, pip, virtualenv]</td>\n",
       "      <td>[Carl Meyer]</td>\n",
       "      <td>None</td>\n",
       "    </tr>\n",
       "    <tr>\n",
       "      <th>3</th>\n",
       "      <td>Build, deploy and scale Django, GraphQL and SPA</td>\n",
       "      <td>eng</td>\n",
       "      <td>2021-06-04</td>\n",
       "      <td>https://www.youtube.com/watch?v=x9I6WaaLC3U</td>\n",
       "      <td>After building, deploying and scaling a dozen ...</td>\n",
       "      <td>NaN</td>\n",
       "      <td>[Django, DjangoConEU, djangoconeu2021]</td>\n",
       "      <td>[dhilipsiva]</td>\n",
       "      <td>1837</td>\n",
       "    </tr>\n",
       "    <tr>\n",
       "      <th>4</th>\n",
       "      <td>Hash Functions and You: Partners in Freedom</td>\n",
       "      <td>eng</td>\n",
       "      <td>2015-04-12</td>\n",
       "      <td>https://www.youtube.com/watch?v=IGwNQfjLTp0</td>\n",
       "      <td>Our trusty friend, the hash function, is as cr...</td>\n",
       "      <td>PyCon US 2015</td>\n",
       "      <td>[]</td>\n",
       "      <td>[Curtis Lassam]</td>\n",
       "      <td>None</td>\n",
       "    </tr>\n",
       "  </tbody>\n",
       "</table>\n",
       "</div>"
      ],
      "text/plain": [
       "                                               Title Lang Record_date  \\\n",
       "0   Load Testing a Django Application using LocustIO  eng  2021-06-04   \n",
       "1  Python-based data science to understand knowle...  eng  2016-03-10   \n",
       "2  Reverse-engineering Ian Bicking's brain: insid...  eng  2011-02-10   \n",
       "3    Build, deploy and scale Django, GraphQL and SPA  eng  2021-06-04   \n",
       "4        Hash Functions and You: Partners in Freedom  eng  2015-04-12   \n",
       "\n",
       "                                                 url  \\\n",
       "0        https://www.youtube.com/watch?v=2rvsOQrbLuc   \n",
       "1                        http://youtu.be/pVd2v7fgxwU   \n",
       "2  https://archive.org/details/pyvideo_568___reve...   \n",
       "3        https://www.youtube.com/watch?v=x9I6WaaLC3U   \n",
       "4        https://www.youtube.com/watch?v=IGwNQfjLTp0   \n",
       "\n",
       "                                         Description       Category  \\\n",
       "0  Fed up of using existing tools for determining...            NaN   \n",
       "1  All kinds of businesses are using data science...            NaN   \n",
       "2  -  1 http://us.pycon.org/2011/schedule/session...          ChiPy   \n",
       "3  After building, deploying and scaling a dozen ...            NaN   \n",
       "4  Our trusty friend, the hash function, is as cr...  PyCon US 2015   \n",
       "\n",
       "                                     Tags                         Speakers  \\\n",
       "0  [Django, DjangoConEU, djangoconeu2021]  [Pranjal Jain, Vibhash Chandra]   \n",
       "1                                     NaN                [Daniel E. Acuna]   \n",
       "2    [chipy, ianbicking, pip, virtualenv]                     [Carl Meyer]   \n",
       "3  [Django, DjangoConEU, djangoconeu2021]                     [dhilipsiva]   \n",
       "4                                      []                  [Curtis Lassam]   \n",
       "\n",
       "  Duration  \n",
       "0     1993  \n",
       "1     2700  \n",
       "2     None  \n",
       "3     1837  \n",
       "4     None  "
      ]
     },
     "execution_count": 32,
     "metadata": {},
     "output_type": "execute_result"
    }
   ],
   "source": [
    "import os\n",
    "import glob\n",
    "import json\n",
    "from datetime import datetime\n",
    "\n",
    "path_to_json = './data/Videos/' \n",
    "\n",
    "json_pattern = os.path.join(path_to_json,'*.json')\n",
    "file_list = glob.glob(json_pattern)\n",
    " \n",
    "dfs = []\n",
    "for file in file_list:\n",
    "    with open(file) as f:\n",
    "        json_data = pd.json_normalize(json.loads(f.read()))\n",
    "    dfs.append(json_data)\n",
    "df = pd.concat(dfs, sort=False) # or sort=True depending on your needs\n",
    "df.index = pd.RangeIndex(len(df.index))\n",
    "\n",
    "url_list =[]\n",
    "for i in df.index:\n",
    "    url = df.videos[i][0]['url']\n",
    "    url_list.append(url)\n",
    "url_list\n",
    "df = df.assign(url = url_list)\n",
    "\n",
    "\n",
    "df['recorded'] = pd.to_datetime(df['recorded'])  \n",
    "\n",
    "\n",
    "df = df[['title','language','recorded','url','description','category','tags','speakers','duration']]\n",
    "df.rename(columns={\n",
    "        'title': 'Title', 'language': 'Lang',\n",
    "        'recorded': 'Record_date', 'url': 'url',\n",
    "        'description': 'Description', 'category': 'Category','tags':'Tags',\n",
    "        'description': 'Description', 'speakers': 'Speakers','duration':'Duration'}, inplace=True)\n",
    "\n",
    "df.head()"
   ]
  },
  {
   "cell_type": "markdown",
   "metadata": {},
   "source": [
    "### Part 2: Handle Missing Values"
   ]
  },
  {
   "cell_type": "markdown",
   "metadata": {},
   "source": [
    "<div dir=\"rtl\">\n",
    "در این قسمت ابتدا داده های NaN مربوط به هرکدام از ویزگی ها چاپ می کنیم سپس آن ها را با مقدار مناسب جایگزین می کنیم.\n",
    "برای دو ویژگی \n",
    "category\n",
    "و\n",
    "Tags\n",
    "از مقدار قبلی ان ها و برای ویژگی \n",
    "Duration\n",
    "از میانگین کل استفاده کردیم.\n",
    "</div>"
   ]
  },
  {
   "cell_type": "code",
   "execution_count": 33,
   "metadata": {},
   "outputs": [
    {
     "name": "stdout",
     "output_type": "stream",
     "text": [
      "Title            0\n",
      "Lang             0\n",
      "Record_date      0\n",
      "url              0\n",
      "Description      0\n",
      "Category        35\n",
      "Tags             5\n",
      "Speakers         0\n",
      "Duration       176\n",
      "dtype: int64\n"
     ]
    }
   ],
   "source": [
    "print ( df.isna().sum() )\n",
    "df['Duration'] = df['Duration'].fillna(df['Duration'].mean())\n",
    "df['Category'] = df['Category'].fillna(method='bfill')\n",
    "df['Tags'] = df['Tags'].fillna(method='bfill')\n",
    "df = df.fillna(method='bfill')\n"
   ]
  },
  {
   "cell_type": "markdown",
   "metadata": {},
   "source": [
    "### Part 3: Title of videos published in 2016"
   ]
  },
  {
   "cell_type": "markdown",
   "metadata": {},
   "source": [
    "\n",
    "<div dir=\"rtl\">\n",
    "در این قسمت عنوان ویدیو های منتشر شده در سال ۲۰۱۶ را چاپ می کنیم.\n",
    "</div>"
   ]
  },
  {
   "cell_type": "code",
   "execution_count": 34,
   "metadata": {},
   "outputs": [
    {
     "data": {
      "text/html": [
       "<div>\n",
       "<style scoped>\n",
       "    .dataframe tbody tr th:only-of-type {\n",
       "        vertical-align: middle;\n",
       "    }\n",
       "\n",
       "    .dataframe tbody tr th {\n",
       "        vertical-align: top;\n",
       "    }\n",
       "\n",
       "    .dataframe thead th {\n",
       "        text-align: right;\n",
       "    }\n",
       "</style>\n",
       "<table border=\"1\" class=\"dataframe\">\n",
       "  <thead>\n",
       "    <tr style=\"text-align: right;\">\n",
       "      <th></th>\n",
       "      <th>Title</th>\n",
       "      <th>Lang</th>\n",
       "      <th>Record_date</th>\n",
       "      <th>url</th>\n",
       "      <th>Description</th>\n",
       "      <th>Category</th>\n",
       "      <th>Tags</th>\n",
       "      <th>Speakers</th>\n",
       "      <th>Duration</th>\n",
       "    </tr>\n",
       "  </thead>\n",
       "  <tbody>\n",
       "    <tr>\n",
       "      <th>1</th>\n",
       "      <td>Python-based data science to understand knowle...</td>\n",
       "      <td>eng</td>\n",
       "      <td>2016-03-10</td>\n",
       "      <td>http://youtu.be/pVd2v7fgxwU</td>\n",
       "      <td>All kinds of businesses are using data science...</td>\n",
       "      <td>ChiPy</td>\n",
       "      <td>[chipy, ianbicking, pip, virtualenv]</td>\n",
       "      <td>[Daniel E. Acuna]</td>\n",
       "      <td>2700.0</td>\n",
       "    </tr>\n",
       "    <tr>\n",
       "      <th>72</th>\n",
       "      <td>ChiPy Python Mentorship</td>\n",
       "      <td>eng</td>\n",
       "      <td>2016-03-10</td>\n",
       "      <td>http://youtu.be/l9xwgde6J84</td>\n",
       "      <td>This April we will the start the fourth round ...</td>\n",
       "      <td>PyCon US 2015</td>\n",
       "      <td>[]</td>\n",
       "      <td>[Tathagata]</td>\n",
       "      <td>420.0</td>\n",
       "    </tr>\n",
       "    <tr>\n",
       "      <th>75</th>\n",
       "      <td>The wonder and the horror of the mock module</td>\n",
       "      <td>eng</td>\n",
       "      <td>2016-03-10</td>\n",
       "      <td>http://youtu.be/PAt5P9mIALY</td>\n",
       "      <td>The \"mock\" module is a powerful (and fun!) too...</td>\n",
       "      <td>ChiPy</td>\n",
       "      <td>[]</td>\n",
       "      <td>[Stephen Hoover]</td>\n",
       "      <td>300.0</td>\n",
       "    </tr>\n",
       "  </tbody>\n",
       "</table>\n",
       "</div>"
      ],
      "text/plain": [
       "                                                Title Lang Record_date  \\\n",
       "1   Python-based data science to understand knowle...  eng  2016-03-10   \n",
       "72                            ChiPy Python Mentorship  eng  2016-03-10   \n",
       "75       The wonder and the horror of the mock module  eng  2016-03-10   \n",
       "\n",
       "                            url  \\\n",
       "1   http://youtu.be/pVd2v7fgxwU   \n",
       "72  http://youtu.be/l9xwgde6J84   \n",
       "75  http://youtu.be/PAt5P9mIALY   \n",
       "\n",
       "                                          Description       Category  \\\n",
       "1   All kinds of businesses are using data science...          ChiPy   \n",
       "72  This April we will the start the fourth round ...  PyCon US 2015   \n",
       "75  The \"mock\" module is a powerful (and fun!) too...          ChiPy   \n",
       "\n",
       "                                    Tags           Speakers  Duration  \n",
       "1   [chipy, ianbicking, pip, virtualenv]  [Daniel E. Acuna]    2700.0  \n",
       "72                                    []        [Tathagata]     420.0  \n",
       "75                                    []   [Stephen Hoover]     300.0  "
      ]
     },
     "execution_count": 34,
     "metadata": {},
     "output_type": "execute_result"
    }
   ],
   "source": [
    "mask = df['Record_date'].dt.year == int(2016)\n",
    "include = df[mask]\n",
    "include"
   ]
  },
  {
   "cell_type": "markdown",
   "metadata": {},
   "source": [
    "### Part 4: Mean, Min, Max, Median of Duration for each Category"
   ]
  },
  {
   "cell_type": "code",
   "execution_count": 35,
   "metadata": {},
   "outputs": [
    {
     "name": "stdout",
     "output_type": "stream",
     "text": [
      "median :  1479.485294117647\n",
      "mean :  1479.4852941176468\n",
      "max :  4328.0\n",
      "min :  4.0\n"
     ]
    }
   ],
   "source": [
    "print (\"median : \"  , df['Duration'].median() )\n",
    "print (\"mean : \"  ,df['Duration'].mean()     )\n",
    "print (\"max : \"  ,df['Duration'].max()     )\n",
    "print (\"min : \"  ,df['Duration'].min()     )"
   ]
  },
  {
   "cell_type": "markdown",
   "metadata": {},
   "source": [
    "### Part 5: Create `label` Column"
   ]
  },
  {
   "cell_type": "markdown",
   "metadata": {},
   "source": [
    "<div dir=\"rtl\">\n",
    "در این قسمت با استفاده از ایجاد شرط های داده شده در صورت سوال ستون\n",
    "label\n",
    "را ایجاد کرده و مطابق با شرط ها آن را پر کردیم.\n",
    "</div>"
   ]
  },
  {
   "cell_type": "code",
   "execution_count": 36,
   "metadata": {},
   "outputs": [
    {
     "data": {
      "text/html": [
       "<div>\n",
       "<style scoped>\n",
       "    .dataframe tbody tr th:only-of-type {\n",
       "        vertical-align: middle;\n",
       "    }\n",
       "\n",
       "    .dataframe tbody tr th {\n",
       "        vertical-align: top;\n",
       "    }\n",
       "\n",
       "    .dataframe thead th {\n",
       "        text-align: right;\n",
       "    }\n",
       "</style>\n",
       "<table border=\"1\" class=\"dataframe\">\n",
       "  <thead>\n",
       "    <tr style=\"text-align: right;\">\n",
       "      <th></th>\n",
       "      <th>Title</th>\n",
       "      <th>Lang</th>\n",
       "      <th>Record_date</th>\n",
       "      <th>url</th>\n",
       "      <th>Description</th>\n",
       "      <th>Category</th>\n",
       "      <th>Tags</th>\n",
       "      <th>Speakers</th>\n",
       "      <th>Duration</th>\n",
       "      <th>label</th>\n",
       "    </tr>\n",
       "  </thead>\n",
       "  <tbody>\n",
       "    <tr>\n",
       "      <th>0</th>\n",
       "      <td>Load Testing a Django Application using LocustIO</td>\n",
       "      <td>eng</td>\n",
       "      <td>2021-06-04</td>\n",
       "      <td>https://www.youtube.com/watch?v=2rvsOQrbLuc</td>\n",
       "      <td>Fed up of using existing tools for determining...</td>\n",
       "      <td>ChiPy</td>\n",
       "      <td>[Django, DjangoConEU, djangoconeu2021]</td>\n",
       "      <td>[Pranjal Jain, Vibhash Chandra]</td>\n",
       "      <td>1993.000000</td>\n",
       "      <td>2</td>\n",
       "    </tr>\n",
       "    <tr>\n",
       "      <th>1</th>\n",
       "      <td>Python-based data science to understand knowle...</td>\n",
       "      <td>eng</td>\n",
       "      <td>2016-03-10</td>\n",
       "      <td>http://youtu.be/pVd2v7fgxwU</td>\n",
       "      <td>All kinds of businesses are using data science...</td>\n",
       "      <td>ChiPy</td>\n",
       "      <td>[chipy, ianbicking, pip, virtualenv]</td>\n",
       "      <td>[Daniel E. Acuna]</td>\n",
       "      <td>2700.000000</td>\n",
       "      <td>3</td>\n",
       "    </tr>\n",
       "    <tr>\n",
       "      <th>2</th>\n",
       "      <td>Reverse-engineering Ian Bicking's brain: insid...</td>\n",
       "      <td>eng</td>\n",
       "      <td>2011-02-10</td>\n",
       "      <td>https://archive.org/details/pyvideo_568___reve...</td>\n",
       "      <td>-  1 http://us.pycon.org/2011/schedule/session...</td>\n",
       "      <td>ChiPy</td>\n",
       "      <td>[chipy, ianbicking, pip, virtualenv]</td>\n",
       "      <td>[Carl Meyer]</td>\n",
       "      <td>1479.485294</td>\n",
       "      <td>2</td>\n",
       "    </tr>\n",
       "    <tr>\n",
       "      <th>3</th>\n",
       "      <td>Build, deploy and scale Django, GraphQL and SPA</td>\n",
       "      <td>eng</td>\n",
       "      <td>2021-06-04</td>\n",
       "      <td>https://www.youtube.com/watch?v=x9I6WaaLC3U</td>\n",
       "      <td>After building, deploying and scaling a dozen ...</td>\n",
       "      <td>PyCon US 2015</td>\n",
       "      <td>[Django, DjangoConEU, djangoconeu2021]</td>\n",
       "      <td>[dhilipsiva]</td>\n",
       "      <td>1837.000000</td>\n",
       "      <td>2</td>\n",
       "    </tr>\n",
       "    <tr>\n",
       "      <th>4</th>\n",
       "      <td>Hash Functions and You: Partners in Freedom</td>\n",
       "      <td>eng</td>\n",
       "      <td>2015-04-12</td>\n",
       "      <td>https://www.youtube.com/watch?v=IGwNQfjLTp0</td>\n",
       "      <td>Our trusty friend, the hash function, is as cr...</td>\n",
       "      <td>PyCon US 2015</td>\n",
       "      <td>[]</td>\n",
       "      <td>[Curtis Lassam]</td>\n",
       "      <td>1479.485294</td>\n",
       "      <td>2</td>\n",
       "    </tr>\n",
       "  </tbody>\n",
       "</table>\n",
       "</div>"
      ],
      "text/plain": [
       "                                               Title Lang Record_date  \\\n",
       "0   Load Testing a Django Application using LocustIO  eng  2021-06-04   \n",
       "1  Python-based data science to understand knowle...  eng  2016-03-10   \n",
       "2  Reverse-engineering Ian Bicking's brain: insid...  eng  2011-02-10   \n",
       "3    Build, deploy and scale Django, GraphQL and SPA  eng  2021-06-04   \n",
       "4        Hash Functions and You: Partners in Freedom  eng  2015-04-12   \n",
       "\n",
       "                                                 url  \\\n",
       "0        https://www.youtube.com/watch?v=2rvsOQrbLuc   \n",
       "1                        http://youtu.be/pVd2v7fgxwU   \n",
       "2  https://archive.org/details/pyvideo_568___reve...   \n",
       "3        https://www.youtube.com/watch?v=x9I6WaaLC3U   \n",
       "4        https://www.youtube.com/watch?v=IGwNQfjLTp0   \n",
       "\n",
       "                                         Description       Category  \\\n",
       "0  Fed up of using existing tools for determining...          ChiPy   \n",
       "1  All kinds of businesses are using data science...          ChiPy   \n",
       "2  -  1 http://us.pycon.org/2011/schedule/session...          ChiPy   \n",
       "3  After building, deploying and scaling a dozen ...  PyCon US 2015   \n",
       "4  Our trusty friend, the hash function, is as cr...  PyCon US 2015   \n",
       "\n",
       "                                     Tags                         Speakers  \\\n",
       "0  [Django, DjangoConEU, djangoconeu2021]  [Pranjal Jain, Vibhash Chandra]   \n",
       "1    [chipy, ianbicking, pip, virtualenv]                [Daniel E. Acuna]   \n",
       "2    [chipy, ianbicking, pip, virtualenv]                     [Carl Meyer]   \n",
       "3  [Django, DjangoConEU, djangoconeu2021]                     [dhilipsiva]   \n",
       "4                                      []                  [Curtis Lassam]   \n",
       "\n",
       "      Duration  label  \n",
       "0  1993.000000      2  \n",
       "1  2700.000000      3  \n",
       "2  1479.485294      2  \n",
       "3  1837.000000      2  \n",
       "4  1479.485294      2  "
      ]
     },
     "execution_count": 36,
     "metadata": {},
     "output_type": "execute_result"
    }
   ],
   "source": [
    "conditions = [\n",
    "    (df['Duration'] <= 1000),\n",
    "    (df['Duration'] > 1000) & (df['Duration'] <= 2000),\n",
    "    (df['Duration'] > 2000)\n",
    "    ]\n",
    "values = [1, 2, 3]\n",
    "df['label'] = np.select(conditions, values)\n",
    "df.head()"
   ]
  },
  {
   "cell_type": "markdown",
   "metadata": {},
   "source": [
    "### Part 6: First and Last video of each label"
   ]
  },
  {
   "cell_type": "markdown",
   "metadata": {},
   "source": [
    "<div dir=\"rtl\">\n",
    "در این قسمت عنوان ویدیو های منتشر شده در سال ۲۰۱۶ را چاپ می کنیم.\n",
    "</div>"
   ]
  },
  {
   "cell_type": "code",
   "execution_count": 37,
   "metadata": {},
   "outputs": [
    {
     "data": {
      "text/html": [
       "<div>\n",
       "<style scoped>\n",
       "    .dataframe tbody tr th:only-of-type {\n",
       "        vertical-align: middle;\n",
       "    }\n",
       "\n",
       "    .dataframe tbody tr th {\n",
       "        vertical-align: top;\n",
       "    }\n",
       "\n",
       "    .dataframe thead th {\n",
       "        text-align: right;\n",
       "    }\n",
       "</style>\n",
       "<table border=\"1\" class=\"dataframe\">\n",
       "  <thead>\n",
       "    <tr style=\"text-align: right;\">\n",
       "      <th></th>\n",
       "      <th>Title</th>\n",
       "      <th>Lang</th>\n",
       "      <th>Record_date</th>\n",
       "      <th>url</th>\n",
       "      <th>Description</th>\n",
       "      <th>Category</th>\n",
       "      <th>Tags</th>\n",
       "      <th>Speakers</th>\n",
       "      <th>Duration</th>\n",
       "      <th>label</th>\n",
       "    </tr>\n",
       "    <tr>\n",
       "      <th>Record_date</th>\n",
       "      <th></th>\n",
       "      <th></th>\n",
       "      <th></th>\n",
       "      <th></th>\n",
       "      <th></th>\n",
       "      <th></th>\n",
       "      <th></th>\n",
       "      <th></th>\n",
       "      <th></th>\n",
       "      <th></th>\n",
       "    </tr>\n",
       "  </thead>\n",
       "  <tbody>\n",
       "    <tr>\n",
       "      <th>2014-07-09</th>\n",
       "      <td>Python-based data science to understand knowle...</td>\n",
       "      <td>eng</td>\n",
       "      <td>2016-03-10</td>\n",
       "      <td>http://youtu.be/pVd2v7fgxwU</td>\n",
       "      <td>All kinds of businesses are using data science...</td>\n",
       "      <td>ChiPy</td>\n",
       "      <td>[chipy, ianbicking, pip, virtualenv]</td>\n",
       "      <td>[Daniel E. Acuna]</td>\n",
       "      <td>2700.0</td>\n",
       "      <td>3</td>\n",
       "    </tr>\n",
       "    <tr>\n",
       "      <th>2014-12-11</th>\n",
       "      <td>All about The Django Software Foundation DSF</td>\n",
       "      <td>eng</td>\n",
       "      <td>2021-06-04</td>\n",
       "      <td>https://www.youtube.com/watch?v=Z_e-QoeZwEM</td>\n",
       "      <td>The Django Software Foundation (DSF) is the in...</td>\n",
       "      <td>ChiPy</td>\n",
       "      <td>[Django, DjangoConEU, djangoconeu2021]</td>\n",
       "      <td>[Anna Makarudze]</td>\n",
       "      <td>2183.0</td>\n",
       "      <td>3</td>\n",
       "    </tr>\n",
       "    <tr>\n",
       "      <th>2015-03-12</th>\n",
       "      <td>The request response cycle a Djangonautic journey</td>\n",
       "      <td>eng</td>\n",
       "      <td>2021-06-04</td>\n",
       "      <td>https://www.youtube.com/watch?v=P5gQmlrwLjc</td>\n",
       "      <td>How exactly do web-servers communicate with Dj...</td>\n",
       "      <td>PyCon US 2015</td>\n",
       "      <td>[Django, DjangoConEU, djangoconeu2021]</td>\n",
       "      <td>[Timothy McCurrach]</td>\n",
       "      <td>2354.0</td>\n",
       "      <td>3</td>\n",
       "    </tr>\n",
       "    <tr>\n",
       "      <th>2016-03-10</th>\n",
       "      <td>A SQL for Django</td>\n",
       "      <td>eng</td>\n",
       "      <td>2021-06-02</td>\n",
       "      <td>https://www.youtube.com/watch?v=kIwGM-e7EhM</td>\n",
       "      <td>This talk will show you how to combine SQL and...</td>\n",
       "      <td>PyCon US 2015</td>\n",
       "      <td>[Django, DjangoConEU, djangoconeu2021]</td>\n",
       "      <td>[Stefan Baerisch]</td>\n",
       "      <td>2126.0</td>\n",
       "      <td>3</td>\n",
       "    </tr>\n",
       "    <tr>\n",
       "      <th>2019-11-20</th>\n",
       "      <td>Create a full stack, reactive website in Djang...</td>\n",
       "      <td>eng</td>\n",
       "      <td>2021-06-03</td>\n",
       "      <td>https://www.youtube.com/watch?v=wMiZIK8p6DQ</td>\n",
       "      <td>Django is a great web framework for \"perfectio...</td>\n",
       "      <td>PyCon US 2015</td>\n",
       "      <td>[Django, DjangoConEU, djangoconeu2021]</td>\n",
       "      <td>[Adam Hill]</td>\n",
       "      <td>2542.0</td>\n",
       "      <td>3</td>\n",
       "    </tr>\n",
       "  </tbody>\n",
       "</table>\n",
       "</div>"
      ],
      "text/plain": [
       "                                                         Title Lang  \\\n",
       "Record_date                                                           \n",
       "2014-07-09   Python-based data science to understand knowle...  eng   \n",
       "2014-12-11        All about The Django Software Foundation DSF  eng   \n",
       "2015-03-12   The request response cycle a Djangonautic journey  eng   \n",
       "2016-03-10                                    A SQL for Django  eng   \n",
       "2019-11-20   Create a full stack, reactive website in Djang...  eng   \n",
       "\n",
       "            Record_date                                          url  \\\n",
       "Record_date                                                            \n",
       "2014-07-09   2016-03-10                  http://youtu.be/pVd2v7fgxwU   \n",
       "2014-12-11   2021-06-04  https://www.youtube.com/watch?v=Z_e-QoeZwEM   \n",
       "2015-03-12   2021-06-04  https://www.youtube.com/watch?v=P5gQmlrwLjc   \n",
       "2016-03-10   2021-06-02  https://www.youtube.com/watch?v=kIwGM-e7EhM   \n",
       "2019-11-20   2021-06-03  https://www.youtube.com/watch?v=wMiZIK8p6DQ   \n",
       "\n",
       "                                                   Description       Category  \\\n",
       "Record_date                                                                     \n",
       "2014-07-09   All kinds of businesses are using data science...          ChiPy   \n",
       "2014-12-11   The Django Software Foundation (DSF) is the in...          ChiPy   \n",
       "2015-03-12   How exactly do web-servers communicate with Dj...  PyCon US 2015   \n",
       "2016-03-10   This talk will show you how to combine SQL and...  PyCon US 2015   \n",
       "2019-11-20   Django is a great web framework for \"perfectio...  PyCon US 2015   \n",
       "\n",
       "                                               Tags             Speakers  \\\n",
       "Record_date                                                                \n",
       "2014-07-09     [chipy, ianbicking, pip, virtualenv]    [Daniel E. Acuna]   \n",
       "2014-12-11   [Django, DjangoConEU, djangoconeu2021]     [Anna Makarudze]   \n",
       "2015-03-12   [Django, DjangoConEU, djangoconeu2021]  [Timothy McCurrach]   \n",
       "2016-03-10   [Django, DjangoConEU, djangoconeu2021]    [Stefan Baerisch]   \n",
       "2019-11-20   [Django, DjangoConEU, djangoconeu2021]          [Adam Hill]   \n",
       "\n",
       "             Duration  label  \n",
       "Record_date                   \n",
       "2014-07-09     2700.0      3  \n",
       "2014-12-11     2183.0      3  \n",
       "2015-03-12     2354.0      3  \n",
       "2016-03-10     2126.0      3  \n",
       "2019-11-20     2542.0      3  "
      ]
     },
     "execution_count": 37,
     "metadata": {},
     "output_type": "execute_result"
    }
   ],
   "source": [
    "df2 = df.copy()\n",
    "df_label1 = df2.loc[df2['label'] == 1]\n",
    "df_label2 = df2.loc[df2['label'] == 2]\n",
    "df_label3 = df2.loc[df2['label'] == 3]\n",
    "\n",
    "\n",
    "df_label1 = df_label1.set_index(pd.DatetimeIndex(df_label1['Record_date']).sort_values())\n",
    "df_label2 = df_label2.set_index(pd.DatetimeIndex(df_label2['Record_date']).sort_values())\n",
    "df_label3 = df_label3.set_index(pd.DatetimeIndex(df_label3['Record_date']).sort_values())\n",
    "\n",
    "#df2.reindex()\n",
    "df_label3.head()\n"
   ]
  },
  {
   "cell_type": "markdown",
   "metadata": {},
   "source": [
    "### (Bonus) part 7: WordCloud of Discription"
   ]
  },
  {
   "cell_type": "markdown",
   "metadata": {},
   "source": [
    "<div dir=\"rtl\">\n",
    " در این قسمت ابتدا می خواهیم \n",
    " stop word\n",
    " ها را حذف کنیم به همین علت اول کتابخانه \n",
    " nltk\n",
    " را خوانده و پکج \n",
    " stopwords\n",
    " را دانلود می کنیم:\n",
    "\n",
    "</div>"
   ]
  },
  {
   "cell_type": "code",
   "execution_count": 38,
   "metadata": {},
   "outputs": [
    {
     "name": "stderr",
     "output_type": "stream",
     "text": [
      "[nltk_data] Downloading package stopwords to\n",
      "[nltk_data]     /Users/carltonj.lloyd/nltk_data...\n",
      "[nltk_data]   Package stopwords is already up-to-date!\n"
     ]
    }
   ],
   "source": [
    "# Import stopwords with nltk.\n",
    "import nltk\n",
    "import ssl\n",
    "\n",
    "try:\n",
    "    _create_unverified_https_context = ssl._create_unverified_context\n",
    "except AttributeError:\n",
    "    pass\n",
    "else:\n",
    "    ssl._create_default_https_context = _create_unverified_https_context\n",
    "\n",
    "nltk.download('stopwords')\n",
    "from nltk.corpus import stopwords\n",
    "\n",
    "\n"
   ]
  },
  {
   "cell_type": "markdown",
   "metadata": {},
   "source": [
    "<div dir=\"rtl\">\n",
    "در ادامه ابتدا خط فاصله را حذف کرده، سپس کلمات ستون \n",
    "description\n",
    "را جدا کرده و در ابنتها نیز  ابر کلمات را برای ۵۰ کلمه پر تکرار بدست می اوریم.\n",
    "\n",
    "</div>"
   ]
  },
  {
   "cell_type": "code",
   "execution_count": 40,
   "metadata": {},
   "outputs": [
    {
     "name": "stdout",
     "output_type": "stream",
     "text": [
      "Most Common Words in Description Column are :\n",
      "python          125\n",
      "django           88\n",
      "talk             84\n",
      "this             80\n",
      "use              73\n",
      "web              54\n",
      "using            53\n",
      "i                45\n",
      "data             44\n",
      "the              41\n",
      "code             41\n",
      "in               40\n",
      "learn            37\n",
      "like             35\n",
      "build            31\n",
      "we               29\n",
      "make             29\n",
      "we'll            28\n",
      "get              27\n",
      "new              26\n",
      "application      26\n",
      "also             25\n",
      "tutorial         24\n",
      "want             24\n",
      "real             24\n",
      "software         23\n",
      "show             23\n",
      "framework        22\n",
      "know             21\n",
      "cover            21\n",
      "applications     20\n",
      "programming      20\n",
      "way              20\n",
      "rest             20\n",
      "performance      19\n",
      "learning         19\n",
      "i'll             19\n",
      "many             19\n",
      "used             19\n",
      "language         19\n",
      "best             18\n",
      "it               18\n",
      "testing          17\n",
      "open             17\n",
      "world            17\n",
      "what             17\n",
      "scientific       17\n",
      "introduction     17\n",
      "tools            17\n",
      "and              16\n",
      "dtype: int64\n"
     ]
    }
   ],
   "source": [
    "stop = stopwords.words('english')\n",
    "df3 = df.copy()\n",
    "\n",
    "df3['Description']=df3['Description'].str.replace('-',' ')\n",
    "df3['Description'] = df3['Description'].apply(lambda x: ' '.join([word for word in x.split() if word not in (stop)]))\n",
    "print(\"Most Common Words in Description Column are :\")\n",
    "print ( pd.Series(' '.join(df3['Description']).lower().split()).value_counts()[:50] )"
   ]
  }
 ],
 "metadata": {
  "kernelspec": {
   "display_name": "Python 3.8.6 64-bit",
   "language": "python",
   "name": "python3"
  },
  "language_info": {
   "codemirror_mode": {
    "name": "ipython",
    "version": 3
   },
   "file_extension": ".py",
   "mimetype": "text/x-python",
   "name": "python",
   "nbconvert_exporter": "python",
   "pygments_lexer": "ipython3",
   "version": "3.8.6"
  },
  "orig_nbformat": 4,
  "vscode": {
   "interpreter": {
    "hash": "0adcc2737ebf6a4a119f135174df96668767fca1ef1112612db5ecadf2b6d608"
   }
  }
 },
 "nbformat": 4,
 "nbformat_minor": 2
}
