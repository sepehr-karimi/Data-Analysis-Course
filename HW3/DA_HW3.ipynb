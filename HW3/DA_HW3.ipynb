{
  "cells": [
    {
      "cell_type": "markdown",
      "metadata": {
        "id": "PtKcpEMzoJbe"
      },
      "source": [
        "<div style=\"display:block\" direction=rtl align=right><br><br>\n",
        "    <div  style=\"width:100%;margin:100;display:block\"  display=block align=center>\n",
        "        <img width=130 align=right src=\"https://i.ibb.co/yXKQmtZ/logo1.png\" style=\"margin:0;\" />\n",
        "        <img width=170 align=left  src=\"https://i.ibb.co/wLjqFkw/logo2.png\" style=\"margin:0;\" />\n",
        "        <span><br><font size=5>University of Tehran , school of ECE</font></span>\n",
        "        <span><br><font size=3>Data Analytics Course</font></span>\n",
        "        <span><br><font size=3>Fall 2022</font></span>\n",
        "    </div><br><br><br>\n",
        "    <div style=\"display:block\" align=left display=block> \n",
        "        <font size=3>Homework 2</font><br>\n",
        "        <hr />\n",
        "        <font size=3>TA: <a href=\"mailto:farzaneh.hatami@ut.ac.ir\">Farzaneh Hatami</a><br></font><br>\n",
        "    </div>\n",
        "</div>"
      ]
    },
    {
      "cell_type": "markdown",
      "metadata": {
        "id": "u1tqLWgNoJbi"
      },
      "source": [
        "# EDA and Visualization"
      ]
    },
    {
      "cell_type": "markdown",
      "source": [
        "## Part1 - EDA and Visualization"
      ],
      "metadata": {
        "id": "IZr8AKLdojlO"
      }
    },
    {
      "cell_type": "markdown",
      "source": [
        "1. A quick peek at the data"
      ],
      "metadata": {
        "id": "3LATlXmarB4K"
      }
    },
    {
      "cell_type": "code",
      "source": [],
      "metadata": {
        "id": "CvIGYwp6rCC_"
      },
      "execution_count": null,
      "outputs": []
    },
    {
      "cell_type": "markdown",
      "source": [
        "2. Number of trips\n",
        "\n",
        "```\n",
        "# This is formatted as code\n",
        "```\n",
        "\n"
      ],
      "metadata": {
        "id": "pzt5ux-prN9t"
      }
    },
    {
      "cell_type": "code",
      "source": [],
      "metadata": {
        "id": "ah5yNbuWrrm6"
      },
      "execution_count": null,
      "outputs": []
    },
    {
      "cell_type": "markdown",
      "source": [
        "3. Number of unique pickup-zones"
      ],
      "metadata": {
        "id": "_P8tauZfrryg"
      }
    },
    {
      "cell_type": "code",
      "source": [],
      "metadata": {
        "id": "9VMZkADnr3jO"
      },
      "execution_count": null,
      "outputs": []
    },
    {
      "cell_type": "markdown",
      "source": [
        "4. Most frequent drop-zones"
      ],
      "metadata": {
        "id": "Jgnz5Urxr335"
      }
    },
    {
      "cell_type": "code",
      "source": [],
      "metadata": {
        "id": "yqL4Xj06sEcT"
      },
      "execution_count": null,
      "outputs": []
    },
    {
      "cell_type": "markdown",
      "source": [
        "5. Percentage of drop-offs and pick-ups per weekday"
      ],
      "metadata": {
        "id": "fSIn86XjsEoF"
      }
    },
    {
      "cell_type": "code",
      "source": [],
      "metadata": {
        "id": "3GPqu0lKsnTg"
      },
      "execution_count": null,
      "outputs": []
    },
    {
      "cell_type": "markdown",
      "source": [
        "6. Number of pick-ups and drop-offs per hour of day"
      ],
      "metadata": {
        "id": "Vxm-ftnNsneR"
      }
    },
    {
      "cell_type": "code",
      "source": [],
      "metadata": {
        "id": "7Vy4t9nCs6zU"
      },
      "execution_count": null,
      "outputs": []
    },
    {
      "cell_type": "markdown",
      "source": [
        "7.  Most frequents payment per weekday"
      ],
      "metadata": {
        "id": "CRqmmAeHs6_S"
      }
    },
    {
      "cell_type": "code",
      "source": [],
      "metadata": {
        "id": "KPWNBtmBtTOz"
      },
      "execution_count": null,
      "outputs": []
    },
    {
      "cell_type": "markdown",
      "source": [
        "8. Number of trips per passengers"
      ],
      "metadata": {
        "id": "4ZdBspiPtTal"
      }
    },
    {
      "cell_type": "code",
      "source": [],
      "metadata": {
        "id": "0f9bNjSNt_El"
      },
      "execution_count": null,
      "outputs": []
    },
    {
      "cell_type": "markdown",
      "source": [
        "9. Number of trips with or without a dropoff-zone"
      ],
      "metadata": {
        "id": "v7CWLlEWt_QV"
      }
    },
    {
      "cell_type": "code",
      "source": [],
      "metadata": {
        "id": "TgfaNjijvkjR"
      },
      "execution_count": null,
      "outputs": []
    },
    {
      "cell_type": "markdown",
      "source": [
        "10.Most frequent color among trips with a dropoff-zone"
      ],
      "metadata": {
        "id": "1oa5m4K9vkwL"
      }
    },
    {
      "cell_type": "code",
      "source": [],
      "metadata": {
        "id": "JKgBVBr1v3FI"
      },
      "execution_count": null,
      "outputs": []
    },
    {
      "cell_type": "markdown",
      "source": [
        "## Part2 - Dimention Rednction"
      ],
      "metadata": {
        "id": "muR6qA9qoq79"
      }
    },
    {
      "cell_type": "markdown",
      "source": [
        "### Selection"
      ],
      "metadata": {
        "id": "sY79-KuKqjDz"
      }
    },
    {
      "cell_type": "code",
      "source": [],
      "metadata": {
        "id": "x_ioHlx8qqBl"
      },
      "execution_count": null,
      "outputs": []
    },
    {
      "cell_type": "markdown",
      "source": [
        "### PCA"
      ],
      "metadata": {
        "id": "kyvynTxaqjG-"
      }
    },
    {
      "cell_type": "code",
      "source": [
        "# PCA"
      ],
      "metadata": {
        "id": "tsmj9bqZq1xn"
      },
      "execution_count": null,
      "outputs": []
    },
    {
      "cell_type": "code",
      "source": [
        "# Plot"
      ],
      "metadata": {
        "id": "vnvc_1cYq1z1"
      },
      "execution_count": null,
      "outputs": []
    },
    {
      "cell_type": "code",
      "source": [
        "# PCA"
      ],
      "metadata": {
        "id": "49_YIPgcq129"
      },
      "execution_count": null,
      "outputs": []
    },
    {
      "cell_type": "markdown",
      "source": [
        "## Part3 - Using Figure"
      ],
      "metadata": {
        "id": "TMO0VrSgoq_d"
      }
    },
    {
      "cell_type": "code",
      "source": [
        "#Plot"
      ],
      "metadata": {
        "id": "LdzTLLu5q9tU"
      },
      "execution_count": null,
      "outputs": []
    }
  ],
  "metadata": {
    "kernelspec": {
      "display_name": "Python 3.8.10 64-bit",
      "language": "python",
      "name": "python3"
    },
    "language_info": {
      "name": "python",
      "version": "3.8.10"
    },
    "orig_nbformat": 4,
    "vscode": {
      "interpreter": {
        "hash": "916dbcbb3f70747c44a77c7bcd40155683ae19c65e1c03b4aa3499c5328201f1"
      }
    },
    "colab": {
      "provenance": []
    }
  },
  "nbformat": 4,
  "nbformat_minor": 0
}