{
 "cells": [
  {
   "cell_type": "markdown",
   "metadata": {},
   "source": [
    "<div style=\"display:block\" direction=rtl align=right><br><br>\n",
    "    <div  style=\"width:100%;margin:100;display:block\"  display=block align=center>\n",
    "        <img width=130 align=right src=\"https://i.ibb.co/yXKQmtZ/logo1.png\" style=\"margin:0;\" />\n",
    "        <img width=170 align=left  src=\"https://i.ibb.co/wLjqFkw/logo2.png\" style=\"margin:0;\" />\n",
    "        <span><br><font size=5>University of Tehran , school of ECE</font></span>\n",
    "        <span><br><font size=3>Data Analytics Course</font></span>\n",
    "        <span><br><font size=3>Fall 2022</font></span>\n",
    "        <span><br><font size=3></font></span>\n",
    "        <span><br><font size=3></font></span>\n",
    "        <span><br><font size=6>Sepehr Karimi Arpanahi</font></span>\n",
    "        <span><br><font size=3>810100447</font></span>\n",
    "    </div><br><br><br>\n",
    "    <div style=\"display:block\" align=left display=block> \n",
    "        <font size=3>Homework 2</font><br>\n",
    "        <hr />\n",
    "        <font size=3>TA: <a href=\"mailto:mersad.esalati@gmail.com\">Mersad Esalati</a><br></font><br>\n",
    "    </div>\n",
    "</div>"
   ]
  },
  {
   "cell_type": "markdown",
   "metadata": {},
   "source": [
    "# Beatifulsoup"
   ]
  },
  {
   "cell_type": "markdown",
   "metadata": {},
   "source": [
    "## News Crawler\n",
    "News Information:\n",
    "- Title\n",
    "- Description\n",
    "- datetime\n",
    "- Category\n",
    "- Agency"
   ]
  },
  {
   "cell_type": "markdown",
   "metadata": {},
   "source": [
    "<div dir = \"rtl\">\n",
    "در این سوال می خواهیم با استفاده از کتابخانه\n",
    "beautifulsoup\n",
    "داده های مورد نظرمان را از سایت \n",
    "tgju\n",
    "استخراج کنیم.\n",
    "\n",
    "در این سوال داده های خواسته شده از ما، اخبار مربوط به طلا و سکه و اخبار ارزی سایت می باشند. همچنین حداقل ۵۰۰ خبر از هر کدام از ارشیو ها باید استخراج کنیم.\n",
    "\n",
    "پس ابتدا کتابخانه های مورد نیاز را فراخوانی میکنیم:\n",
    "</div>"
   ]
  },
  {
   "cell_type": "code",
   "execution_count": 14,
   "metadata": {},
   "outputs": [],
   "source": [
    "from bs4 import BeautifulSoup\n",
    "from csv import writer\n",
    "import requests \n"
   ]
  },
  {
   "cell_type": "markdown",
   "metadata": {},
   "source": [
    "### Currency News Crawler"
   ]
  },
  {
   "cell_type": "markdown",
   "metadata": {},
   "source": [
    "<div dir = \"rtl\">\n",
    "در بخش اول داده های ارشیو اخبار ارزی را \n",
    "crawl\n",
    "می کنیم و در آخر در فایل \n",
    "currency_news.csv\n",
    "ذخیره می کنیم.\n",
    "\n",
    "با توجه به اینکه در هر صفحه از سایت ۲۰ خبر موجود است. داده های ۲۵ صفحه اول سایت را \n",
    "crawl\n",
    "خواهیم کرد. پس در یک حلقه تا زمانی که تعداد اخبار کمتر از ۵۰۱ باشد، ابتدا URL مورد نیازمان را \n",
    "request میکنیم و پاسخ را در\n",
    "response\n",
    "ذخیره می کنیم.\n",
    "در ادامه \n",
    "response \n",
    "را به تابع\n",
    "beautifulsoup\n",
    "داده و در soup ذخیره میکنیم.\n",
    "حال ستون های title ، description ، datetime ، category و agency را استخراج می کنیم.\n",
    "سپس داده های جمع آوری شده را در فایل\n",
    "currency_news.csv\n",
    "ذخیره می کنیم.\n",
    "\n",
    "agency:\n",
    "برای به دست آوردن اطلاعات خبرگزاری برای هر خبر، از آنایی که ممکن است برخی اخبار سایت بدون منبع(خبر های تحریریه همین سایت) باشند، ما درصورتی که agency موجود نباشد برای آن خبر ، \"-\" یادداشت می کنیم.\n",
    "</div>"
   ]
  },
  {
   "cell_type": "code",
   "execution_count": 37,
   "metadata": {},
   "outputs": [],
   "source": [
    "with open('currency_news.csv', 'w', encoding='utf8', newline='') as f:\n",
    "    thewriter = writer(f)\n",
    "    header = ['category', 'agency', 'title', 'description','time']\n",
    "    thewriter.writerow(header)\n",
    "\n",
    "    i = 1 # of page we are crawling\n",
    "    n = 0 # Number of news\n",
    "    while n < 501: \n",
    "\n",
    "        url = \"https://www.tgju.org/news/category/93965/%D8%A7%D8%AE%D8%A8%D8%A7%D8%B1-%D8%A7%D8%B1%D8%B2%DB%8C/page/{}\".format(i)\n",
    "        response = requests.get(url)\n",
    "        soup = BeautifulSoup(response.text, 'html.parser')\n",
    "        lists = soup.find_all(\"div\", {\"class\": \"news-article-block\"})\n",
    "        i = i+1\n",
    "        n = n + len(lists)\n",
    "        \n",
    "        for list in lists:\n",
    "            category = list.find(\"a\", {\"class\": \"news-article-tag outline-tag\"}).text\n",
    "            if list.find(\"span\", {\"class\": \"news-article-tag\"}) is None:\n",
    "                agency = \" - \"\n",
    "            else:\n",
    "                agency = list.find(\"span\", {\"class\": \"news-article-tag\"}).text\n",
    "            \n",
    "            title = list.find(\"h2\", {\"class\": \"news-article-title font-title-18\"}).text.replace('\\n', '')\n",
    "            description = list.find(\"span\", {\"class\": \"news-article-description\"}).text.replace('\\n', '')\n",
    "            time = list.find(\"time\", {\"class\": \"news-article-text-sub\"})[\"datetime\"]\n",
    "\n",
    "            info = [category, agency, title, description,time]\n",
    "            thewriter.writerow(info)\n",
    "            \n"
   ]
  },
  {
   "cell_type": "markdown",
   "metadata": {},
   "source": [
    "### Gold News Crawler"
   ]
  },
  {
   "cell_type": "markdown",
   "metadata": {},
   "source": [
    "<div dir=\"rtl\">\n",
    "در اینجا نیز همان کد مرحله قبل را برای اخبار سکه و طلا اجرا می کنیم و در انتها نیز آن را در فایل\n",
    "gold_news.csv\n",
    "ذخیره میکنیم.\n",
    "</div>"
   ]
  },
  {
   "cell_type": "code",
   "execution_count": 39,
   "metadata": {},
   "outputs": [],
   "source": [
    "with open('gold_news.csv', 'w', encoding='utf8', newline='') as f:\n",
    "    thewriter = writer(f)\n",
    "    header = ['category', 'agency', 'title', 'description','time']\n",
    "    thewriter.writerow(header)\n",
    "\n",
    "    i = 1 # of page we are crawling\n",
    "    n = 0 # Number of news\n",
    "    while n < 501: \n",
    "\n",
    "        url = \"https://www.tgju.org/news/category/93964/%D8%A7%D8%AE%D8%A8%D8%A7%D8%B1-%D8%B7%D9%84%D8%A7-%D9%88-%D8%B3%DA%A9%D9%87/page/{}\".format(i)\n",
    "        response = requests.get(url)\n",
    "        soup = BeautifulSoup(response.text, 'html.parser')\n",
    "        lists = soup.find_all(\"div\", {\"class\": \"news-article-block\"})\n",
    "\n",
    "        n = n + len(lists)\n",
    "        i = i+1\n",
    "        for list in lists:\n",
    "            category = list.find(\"a\", {\"class\": \"news-article-tag outline-tag\"}).text\n",
    "            if list.find(\"span\", {\"class\": \"news-article-tag\"}) is None:\n",
    "                agency = \" - \"\n",
    "            else:\n",
    "                agency = list.find(\"span\", {\"class\": \"news-article-tag\"}).text\n",
    "            \n",
    "            title = list.find(\"h2\", {\"class\": \"news-article-title font-title-18\"}).text.replace('\\n', '')\n",
    "            description = list.find(\"span\", {\"class\": \"news-article-description\"}).text.replace('\\n', '')\n",
    "            time = list.find(\"time\", {\"class\": \"news-article-text-sub\"})[\"datetime\"]\n",
    "\n",
    "            info = [category, agency, title, description,time]\n",
    "            thewriter.writerow(info)"
   ]
  },
  {
   "cell_type": "markdown",
   "metadata": {},
   "source": [
    "## Question 1: Top Agency"
   ]
  },
  {
   "cell_type": "markdown",
   "metadata": {},
   "source": [
    "<div dir = \"rtl\">\n",
    "سوال اول از ما می خواهد که۵ خبرگزاری که در این مدت بیشترین خبر را منتشر کردند را بدست آوریم.\n",
    "پس به ازای هر کدام از دسته بندی ها، تعداد سطر ها را به ازای هر agency جمع آوری کرده و آن ها را در یک دیتافریم جدید ذخیره می کنیم.\n",
    "سپس ۵ خبرگزاری که بیشتر خبر را منتشر کردند را نمایش می دهیم:\n",
    "همانطور که گفته شد، خبرگزاری \"-\" همان خبر های تحریریه سایت tgju میباشد.\n",
    "</div>"
   ]
  },
  {
   "cell_type": "code",
   "execution_count": 58,
   "metadata": {},
   "outputs": [
    {
     "name": "stdout",
     "output_type": "stream",
     "text": [
      "Agencies with the most news in our GOLD dataset are :\n"
     ]
    },
    {
     "data": {
      "text/html": [
       "<div>\n",
       "<style scoped>\n",
       "    .dataframe tbody tr th:only-of-type {\n",
       "        vertical-align: middle;\n",
       "    }\n",
       "\n",
       "    .dataframe tbody tr th {\n",
       "        vertical-align: top;\n",
       "    }\n",
       "\n",
       "    .dataframe thead th {\n",
       "        text-align: right;\n",
       "    }\n",
       "</style>\n",
       "<table border=\"1\" class=\"dataframe\">\n",
       "  <thead>\n",
       "    <tr style=\"text-align: right;\">\n",
       "      <th></th>\n",
       "      <th>top 5 Agencies</th>\n",
       "    </tr>\n",
       "  </thead>\n",
       "  <tbody>\n",
       "    <tr>\n",
       "      <th>1</th>\n",
       "      <td>نبض بازار</td>\n",
       "    </tr>\n",
       "    <tr>\n",
       "      <th>2</th>\n",
       "      <td>اقتصاد نیوز</td>\n",
       "    </tr>\n",
       "    <tr>\n",
       "      <th>3</th>\n",
       "      <td>سایت طلا</td>\n",
       "    </tr>\n",
       "    <tr>\n",
       "      <th>4</th>\n",
       "      <td>اقتصاد آنلاین</td>\n",
       "    </tr>\n",
       "    <tr>\n",
       "      <th>5</th>\n",
       "      <td>-</td>\n",
       "    </tr>\n",
       "  </tbody>\n",
       "</table>\n",
       "</div>"
      ],
      "text/plain": [
       "  top 5 Agencies\n",
       "1      نبض بازار\n",
       "2    اقتصاد نیوز\n",
       "3       سایت طلا\n",
       "4  اقتصاد آنلاین\n",
       "5             - "
      ]
     },
     "metadata": {},
     "output_type": "display_data"
    },
    {
     "name": "stdout",
     "output_type": "stream",
     "text": [
      "\n",
      "Agencies with the most news in our CURRENCY dataset are :\n"
     ]
    },
    {
     "data": {
      "text/html": [
       "<div>\n",
       "<style scoped>\n",
       "    .dataframe tbody tr th:only-of-type {\n",
       "        vertical-align: middle;\n",
       "    }\n",
       "\n",
       "    .dataframe tbody tr th {\n",
       "        vertical-align: top;\n",
       "    }\n",
       "\n",
       "    .dataframe thead th {\n",
       "        text-align: right;\n",
       "    }\n",
       "</style>\n",
       "<table border=\"1\" class=\"dataframe\">\n",
       "  <thead>\n",
       "    <tr style=\"text-align: right;\">\n",
       "      <th></th>\n",
       "      <th>top 5 Agencies</th>\n",
       "    </tr>\n",
       "  </thead>\n",
       "  <tbody>\n",
       "    <tr>\n",
       "      <th>1</th>\n",
       "      <td>اقتصاد نیوز</td>\n",
       "    </tr>\n",
       "    <tr>\n",
       "      <th>2</th>\n",
       "      <td>ایران اکونومیست</td>\n",
       "    </tr>\n",
       "    <tr>\n",
       "      <th>3</th>\n",
       "      <td>دنیای اقتصاد</td>\n",
       "    </tr>\n",
       "    <tr>\n",
       "      <th>4</th>\n",
       "      <td>دیجی کالا مگ</td>\n",
       "    </tr>\n",
       "    <tr>\n",
       "      <th>5</th>\n",
       "      <td>اقتصاد 24</td>\n",
       "    </tr>\n",
       "  </tbody>\n",
       "</table>\n",
       "</div>"
      ],
      "text/plain": [
       "    top 5 Agencies\n",
       "1      اقتصاد نیوز\n",
       "2  ایران اکونومیست\n",
       "3     دنیای اقتصاد\n",
       "4     دیجی کالا مگ\n",
       "5        اقتصاد 24"
      ]
     },
     "metadata": {},
     "output_type": "display_data"
    }
   ],
   "source": [
    "import pandas as pd\n",
    "# Reading\n",
    "df_currency = pd.read_csv(\"./currency_news.csv\")\n",
    "df_gold= pd.read_csv(\"./gold_news.csv\")\n",
    "\n",
    "top_5_agencies_gold = df_gold['agency'].value_counts().index[0:5].to_frame().set_axis(['top 5 Agencies'],axis=1).reset_index(drop=True)\n",
    "top_5_agencies_currency = df_currency['agency'].value_counts().index[0:5].to_frame().set_axis(['top 5 Agencies'],axis=1).reset_index(drop=True)\n",
    "top_5_agencies_gold.index = top_5_agencies_gold.index+1\n",
    "top_5_agencies_currency.index = top_5_agencies_currency.index+1\n",
    "print(\"Agencies with the most news in our GOLD dataset are :\"  )\n",
    "display (top_5_agencies_gold )\n",
    "print(\"\\nAgencies with the most news in our CURRENCY dataset are :\"  )\n",
    "display ( top_5_agencies_currency )"
   ]
  },
  {
   "cell_type": "markdown",
   "metadata": {},
   "source": [
    "## Question 2: Daily News Trend"
   ]
  },
  {
   "cell_type": "markdown",
   "metadata": {},
   "source": [
    "<div dir = \"rtl\">\n",
    "در سوال دوم می خواهیم نمودار trend تعداد اخبار را بر اساس هر روز و برای هر دو دسته بندی نمایش دهیم و آن ها را با هم مقایسه کنیم.\n",
    "مانند قسمت قبل ابتدا فایل های csv را خوانده و در دیتافریم های\n",
    "df_currency و df_gold ذخیره میکنیم.\n",
    "سپس ستون time هر دو نمودار را به فرمت datetime می بریم.\n",
    "در ادامه برای بدست آورن تعداد اخبار در هر روز، در هر کدام از دیتافریم ها را با استفاده از دستور group_by\n",
    "تعداد اخبار را بدست می اوریم و در سری های\n",
    "gold_trend و currency_trend ذخیره می کنیم.\n",
    "سپس آن ها را در نمودار زیر نمایش می دهیم.\n",
    "همانطور که می بینیم، تعداد اخبار مربوط به بازار سکه و طلا کمتر است به همین علت تعداد روز های بیشتری از نمودار را شامل می شود. اما چون تعداد اخبار مربوط به بازار ارز بیشتر است، تعداد روز های کمتری را در نمودار شامل می شود.\n",
    "همینطور در مقایسه ترند اخبار در روز هایی که اخبار هر دو بازار را داریم، میبینیم که تغییرات نمودار تقریبا از یک شیب پیروی می کند و دو نمودار همدیگر را دنبال می کنند.\n",
    "\n",
    "</div>"
   ]
  },
  {
   "cell_type": "code",
   "execution_count": 57,
   "metadata": {},
   "outputs": [
    {
     "data": {
      "text/plain": [
       "<matplotlib.legend.Legend at 0x7fc611c819a0>"
      ]
     },
     "execution_count": 57,
     "metadata": {},
     "output_type": "execute_result"
    },
    {
     "data": {
      "image/png": "[encoded data removed]",
      "text/plain": [
       "<Figure size 1044x756 with 1 Axes>"
      ]
     },
     "metadata": {
      "needs_background": "light"
     },
     "output_type": "display_data"
    }
   ],
   "source": [
    "import matplotlib.pyplot as plt\n",
    "import pandas as pd\n",
    "\n",
    "# Reading\n",
    "df_currency = pd.read_csv(\"./currency_news.csv\")\n",
    "df_gold= pd.read_csv(\"./gold_news.csv\")\n",
    "\n",
    "df_currency['time'] = pd.to_datetime(df_currency['time'])\n",
    "df_gold['time'] = pd.to_datetime(df_gold['time'])\n",
    "currency_trend = df_currency.groupby([df_currency[\"time\"].dt.date])['category'].count()\n",
    "gold_trend = df_gold.groupby([df_gold[\"time\"].dt.date])['category'].count()\n",
    "\n",
    "fig, ax = plt.subplots(1, 1)\n",
    "fig.set_size_inches(14.5, 10.5)\n",
    "ax.plot(currency_trend.index, currency_trend.values, label = \"currency trend\")\n",
    "ax.plot(gold_trend.index, gold_trend.values, label = \"gold trend\")\n",
    "fig.suptitle('Daily news Trend')\n",
    "plt.xlabel('Date')\n",
    "plt.ylabel('Number of news')\n",
    "ax.legend()\n",
    "\n"
   ]
  }
 ],
 "metadata": {
  "kernelspec": {
   "display_name": "Python 3.8.6 64-bit",
   "language": "python",
   "name": "python3"
  },
  "language_info": {
   "codemirror_mode": {
    "name": "ipython",
    "version": 3
   },
   "file_extension": ".py",
   "mimetype": "text/x-python",
   "name": "python",
   "nbconvert_exporter": "python",
   "pygments_lexer": "ipython3",
   "version": "3.8.6"
  },
  "orig_nbformat": 4,
  "vscode": {
   "interpreter": {
    "hash": "0adcc2737ebf6a4a119f135174df96668767fca1ef1112612db5ecadf2b6d608"
   }
  }
 },
 "nbformat": 4,
 "nbformat_minor": 2
}
